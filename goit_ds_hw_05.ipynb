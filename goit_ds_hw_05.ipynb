{
  "nbformat": 4,
  "nbformat_minor": 0,
  "metadata": {
    "colab": {
      "provenance": [],
      "gpuType": "T4",
      "authorship_tag": "ABX9TyMIyEmBRu/Dy6JClVmTfnJn",
      "include_colab_link": true
    },
    "kernelspec": {
      "name": "python3",
      "display_name": "Python 3"
    },
    "language_info": {
      "name": "python"
    }
  },
  "cells": [
    {
      "cell_type": "markdown",
      "metadata": {
        "id": "view-in-github",
        "colab_type": "text"
      },
      "source": [
        "<a href=\"https://colab.research.google.com/github/lexxai/goit_python_ds_hw_05/blob/main/goit_ds_hw_05.ipynb\" target=\"_parent\"><img src=\"https://colab.research.google.com/assets/colab-badge.svg\" alt=\"Open In Colab\"/></a>"
      ]
    },
    {
      "cell_type": "markdown",
      "source": [
        "## LOAD DATASET"
      ],
      "metadata": {
        "id": "AW7Ag9r3BfSV"
      }
    },
    {
      "cell_type": "code",
      "source": [
        "import pandas as pd\n",
        "import numpy as np\n",
        "\n",
        "from sklearn.model_selection import train_test_split\n",
        "from sklearn.pipeline import Pipeline\n",
        "from sklearn.compose import ColumnTransformer\n",
        "from sklearn.impute import SimpleImputer\n",
        "from sklearn.svm import SVC\n",
        "from sklearn.ensemble import RandomForestClassifier\n",
        "from sklearn.model_selection import GridSearchCV\n",
        "from sklearn.metrics import classification_report, confusion_matrix\n",
        "from sklearn.pipeline import make_pipeline\n",
        "from sklearn.model_selection import cross_val_score\n",
        "from sklearn.metrics import f1_score, accuracy_score\n"
      ],
      "metadata": {
        "id": "1D0oT1i-ROzp"
      },
      "execution_count": 1,
      "outputs": []
    },
    {
      "cell_type": "code",
      "source": [
        "from pathlib import Path\n",
        "\n",
        "DATASET_KEYS = (\"f0s0\", \"f0s1\", \"f1s0\", \"f1s1\")\n",
        "SAVED_DATAFRAME_BASE = Path(\"/content/\")\n",
        "URL = \"https://drive.usercontent.google.com/download?id=1nzrtQpfaHL0OgJ_eXzA7VuEj7XotrSWO&export=download&authuser=0\"\n",
        "OUTPUT = Path(\"/content/homework.zip\")\n",
        "CSV_DATA_PATH  = Path(\"/content/data\")"
      ],
      "metadata": {
        "id": "6PnBB155s5Pd"
      },
      "execution_count": 2,
      "outputs": []
    },
    {
      "cell_type": "code",
      "execution_count": 3,
      "metadata": {
        "id": "GzZEhfMLIgwU"
      },
      "outputs": [],
      "source": [
        "if not OUTPUT.is_file():\n",
        "  !wget -O $OUTPUT $URL\n",
        "\n",
        "if OUTPUT.is_file() and not CSV_DATA_PATH.is_dir():\n",
        "  !unzip -q -o $OUTPUT\n",
        "  #!rm $OUTPUT"
      ]
    },
    {
      "cell_type": "code",
      "source": [
        "if CSV_DATA_PATH.is_dir():\n",
        "  class_path = list(CSV_DATA_PATH.iterdir())\n",
        "  class_list = list(d.name for d in class_path)\n",
        "  print(class_list)"
      ],
      "metadata": {
        "colab": {
          "base_uri": "https://localhost:8080/"
        },
        "id": "JlsLFHAeMD-T",
        "outputId": "db29acc6-5659-4865-ba4f-a82372163765"
      },
      "execution_count": 4,
      "outputs": [
        {
          "output_type": "stream",
          "name": "stdout",
          "text": [
            "['running', 'idle', 'walking', 'stairs']\n"
          ]
        }
      ]
    },
    {
      "cell_type": "markdown",
      "source": [
        "### PRELOAD SAVED DATASETs"
      ],
      "metadata": {
        "id": "8K5C4W6HR59c"
      }
    },
    {
      "cell_type": "code",
      "source": [
        "def gen_saved_name(key):\n",
        "  return SAVED_DATAFRAME_BASE.joinpath(f\"data-{key}.father\")"
      ],
      "metadata": {
        "id": "e2OMuKwEQM59"
      },
      "execution_count": 5,
      "outputs": []
    },
    {
      "cell_type": "code",
      "source": [
        "df_set = {}\n",
        "X_set = {}\n",
        "y_set = {}\n",
        "reports = {}"
      ],
      "metadata": {
        "id": "49wi3Zu0LqnS"
      },
      "execution_count": 24,
      "outputs": []
    },
    {
      "cell_type": "code",
      "source": [
        "skip_load = True"
      ],
      "metadata": {
        "id": "3zO42cScqqCg"
      },
      "execution_count": 25,
      "outputs": []
    },
    {
      "cell_type": "code",
      "source": [
        "for key in DATASET_KEYS:\n",
        "  filename = gen_saved_name(key)\n",
        "  if not skip_load and filename.is_file():\n",
        "    df_set[key] = pd.read_feather(filename)\n",
        "    X_set[key] = df_set[key].iloc[:,:-1]\n",
        "    y_set[key] = df_set[key].iloc[:,-1]\n",
        "    print(f\"DATASET {key}. Loaded. shape: {df_set[key].shape}\")\n",
        "  else:\n",
        "    df_set[key] = pd.DataFrame()"
      ],
      "metadata": {
        "id": "k03po368tWcn"
      },
      "execution_count": 26,
      "outputs": []
    },
    {
      "cell_type": "markdown",
      "source": [
        "## BUILD DataFrame"
      ],
      "metadata": {
        "id": "FmsQbzSxPLOt"
      }
    },
    {
      "cell_type": "markdown",
      "source": [
        "#### functions"
      ],
      "metadata": {
        "id": "wxXLGdbuJ5wN"
      }
    },
    {
      "cell_type": "code",
      "source": [
        "def save_dataset(key,df):\n",
        "  filename = gen_saved_name(key)\n",
        "  if not df.empty and not filename.is_file():\n",
        "    df.to_feather(filename)"
      ],
      "metadata": {
        "id": "Z2c4UCMyTc4p"
      },
      "execution_count": 8,
      "outputs": []
    },
    {
      "cell_type": "code",
      "source": [
        "def flatten_frame(frame):\n",
        "        columns=[f\"{col}_{i}\" for i in range(frame.shape[0]) for col in frame.columns]\n",
        "        return pd.DataFrame(frame.values.reshape(1, -1), columns=columns)"
      ],
      "metadata": {
        "id": "cwvTi6GrUNPb"
      },
      "execution_count": 9,
      "outputs": []
    },
    {
      "cell_type": "code",
      "source": [
        "def add_stat_feature_frame(frame, rows):\n",
        "  features = []\n",
        "  for col_id in range(0,3):\n",
        "    col = frame.iloc[:,col_id]\n",
        "    features.append(pd.DataFrame([col.mean()] * rows,columns=[f'{col.name}_mean']))\n",
        "    features.append(pd.DataFrame([col.max()] * rows,columns=[f'{col.name}_max']))\n",
        "    features.append(pd.DataFrame([col.min()] * rows,columns=[f'{col.name}_min']))\n",
        "    features.append(pd.DataFrame([col.quantile(0.75)-col.quantile(0.25)] * rows,columns=[f'{col.name}_interquartile_range']))\n",
        "    features.append(pd.DataFrame([col.idxmin()] * rows,columns=[f'{col.name}_index_of_minimum_value']))\n",
        "    features.append(pd.DataFrame([np.mean(np.abs(col - col.mean()))] * rows,columns=[f'{col.name}_mean_of_absolute_deviation']))\n",
        "    features.append(pd.DataFrame([col.median()] * rows,columns=[f'{col.name}_median']))\n",
        "    # features.append(pd.DataFrame([df.skew(axis=0).iloc[:,col_id]] * rows,columns=[f'{col.name}_skewness']))\n",
        "    features.append(pd.DataFrame([col.std()] * rows,columns=[f'{col.name}_standard_deviation']))\n",
        "    features.append(pd.DataFrame([np.sqrt(np.mean(col)**2)] * rows,columns=[f'{col.name}_root_mean_square_error']))\n",
        "\n",
        "  result = pd.concat(features, axis=1)\n",
        "  # rint(f\"New stats features: {result.columns}\")\n",
        "  return result"
      ],
      "metadata": {
        "id": "0fgZZnp5VadH"
      },
      "execution_count": 10,
      "outputs": []
    },
    {
      "cell_type": "code",
      "source": [
        "def prepare_dataset(class_path: list[Path], flatten = True, stat_feture = True, limit_frames = None):\n",
        "  dfws = []\n",
        "  for class_id, work_class_path in enumerate(class_path):\n",
        "    list_files = list(sorted(work_class_path.glob('*.csv'), key=lambda path: int(path.stem.rsplit(\"-\", 1)[1])))\n",
        "    print(f\"Importing class '{work_class_path.name:7}' : {class_id}. Frames: {len(list_files)}\")\n",
        "    for i, filename in enumerate(list_files):\n",
        "      # READ FRAME CSV FILE\n",
        "      df_w: pd.DataFrame = pd.read_csv(filename)\n",
        "      addon_features = [df_w]\n",
        "      if flatten:\n",
        "        addon_features = [flatten_frame(df_w)]\n",
        "      if stat_feture:\n",
        "        addon_features.append(add_stat_feature_frame(df_w,addon_features[0].shape[0]))\n",
        "      df_w = pd.concat(addon_features, axis=1)\n",
        "      df_w['class'] = class_id\n",
        "      dfws.append(df_w)\n",
        "      if limit_frames and (i > limit_frames):\n",
        "        break\n",
        "  df = pd.concat(dfws, axis=0, ignore_index=True)\n",
        "  # print(df.info())\n",
        "  print(df.shape)\n",
        "  return df"
      ],
      "metadata": {
        "id": "ULUpYPrXqw5o"
      },
      "execution_count": 11,
      "outputs": []
    },
    {
      "cell_type": "markdown",
      "source": [
        "### DATASETs  (f0s0, f0s1, f1s0, f1s1)"
      ],
      "metadata": {
        "id": "_0ib1L70Gzgo"
      }
    },
    {
      "cell_type": "code",
      "source": [
        "limit_frames = 300\n",
        "for f in range(2):\n",
        "  for s in range(2):\n",
        "    key_set = f\"f{f}s{s}\"\n",
        "    print(f\"\\nDATASET {key_set}. Where flatten={bool(f)}, stat_feture={bool(s)}\")\n",
        "    if df_set.get(key_set) is not None and (not df_set[key_set].empty):\n",
        "      print(\"Alredy loaded, skipped\")\n",
        "      continue\n",
        "    df_set[key_set] = prepare_dataset(class_path, flatten = f, stat_feture = s, limit_frames = limit_frames)\n",
        "    save_dataset(key_set, df_set[key_set])\n",
        "    print(df_set[key_set].sample(4))\n",
        "    X_set[key_set] = df_set[key_set].iloc[:,:-1]\n",
        "    y_set[key_set] = df_set[key_set].iloc[:,-1]"
      ],
      "metadata": {
        "colab": {
          "base_uri": "https://localhost:8080/"
        },
        "outputId": "f32c0173-9bfe-4f79-dd36-bb963a0801e2",
        "id": "KSgYfYz6Gzgo"
      },
      "execution_count": 27,
      "outputs": [
        {
          "output_type": "stream",
          "name": "stdout",
          "text": [
            "\n",
            "DATASET f0s0. Where flatten=False, stat_feture=False\n",
            "Importing class 'running' : 0. Frames: 3408\n",
            "Importing class 'idle   ' : 1. Frames: 1039\n",
            "Importing class 'walking' : 2. Frames: 1850\n",
            "Importing class 'stairs ' : 3. Frames: 165\n",
            "(32130, 4)\n",
            "       accelerometer_X  accelerometer_Y  accelerometer_Z  class\n",
            "30999        -2.240973        -4.735731        -0.804452      3\n",
            "6986          2.537854       -20.513520        -4.338293      0\n",
            "28557         3.466804        -5.406107        -2.633622      3\n",
            "5458          8.963891        17.496826         2.968810      0\n",
            "\n",
            "DATASET f0s1. Where flatten=False, stat_feture=True\n",
            "Importing class 'running' : 0. Frames: 3408\n",
            "Importing class 'idle   ' : 1. Frames: 1039\n",
            "Importing class 'walking' : 2. Frames: 1850\n",
            "Importing class 'stairs ' : 3. Frames: 165\n",
            "(32130, 31)\n",
            "       accelerometer_X  accelerometer_Y  accelerometer_Z  \\\n",
            "29995         0.991200       -10.903194        -8.183381   \n",
            "14280         0.742203         6.943185         6.770803   \n",
            "30716         2.930503        -8.518570        -2.236184   \n",
            "13621         0.158017         4.367024         8.647857   \n",
            "\n",
            "       accelerometer_X_mean  accelerometer_X_max  accelerometer_X_min  \\\n",
            "29995              0.858401             8.398860            -3.787627   \n",
            "14280              0.360886             0.799663            -0.454898   \n",
            "30716             -1.102769             2.959233            -7.805097   \n",
            "13621              0.198240             3.739743            -1.072602   \n",
            "\n",
            "       accelerometer_X_interquartile_range  \\\n",
            "29995                             4.309563   \n",
            "14280                             0.391452   \n",
            "30716                             2.905363   \n",
            "13621                             0.572214   \n",
            "\n",
            "       accelerometer_X_index_of_minimum_value  \\\n",
            "29995                                       0   \n",
            "14280                                      28   \n",
            "30716                                       9   \n",
            "13621                                       4   \n",
            "\n",
            "       accelerometer_X_mean_of_absolute_deviation  accelerometer_X_median  \\\n",
            "29995                                    2.330186                1.235408   \n",
            "14280                                    0.222746                0.399832   \n",
            "30716                                    1.980005               -1.074996   \n",
            "13621                                    0.719601               -0.184354   \n",
            "\n",
            "       ...  accelerometer_Z_mean  accelerometer_Z_max  accelerometer_Z_min  \\\n",
            "29995  ...             -1.882800             6.775591           -10.491392   \n",
            "14280  ...              7.118600             8.504205             6.636728   \n",
            "30716  ...             -2.131797             9.706094            -8.681376   \n",
            "13621  ...              6.640877             8.734048             2.901773   \n",
            "\n",
            "       accelerometer_Z_interquartile_range  \\\n",
            "29995                             4.381389   \n",
            "14280                             0.509965   \n",
            "30716                             2.464830   \n",
            "13621                             0.599748   \n",
            "\n",
            "       accelerometer_Z_index_of_minimum_value  \\\n",
            "29995                                      15   \n",
            "14280                                       3   \n",
            "30716                                      25   \n",
            "13621                                       3   \n",
            "\n",
            "       accelerometer_Z_mean_of_absolute_deviation  accelerometer_Z_median  \\\n",
            "29995                                    3.354053               -2.310404   \n",
            "14280                                    0.280441                7.132327   \n",
            "30716                                    2.014832               -2.346318   \n",
            "13621                                    0.632601                6.782774   \n",
            "\n",
            "       accelerometer_Z_standard_deviation  \\\n",
            "29995                            4.499126   \n",
            "14280                            0.381396   \n",
            "30716                            3.112946   \n",
            "13621                            1.042453   \n",
            "\n",
            "       accelerometer_Z_root_mean_square_error  class  \n",
            "29995                                1.882800      3  \n",
            "14280                                7.118600      1  \n",
            "30716                                2.131797      3  \n",
            "13621                                6.640877      1  \n",
            "\n",
            "[4 rows x 31 columns]\n",
            "\n",
            "DATASET f1s0. Where flatten=True, stat_feture=False\n",
            "Importing class 'running' : 0. Frames: 3408\n",
            "Importing class 'idle   ' : 1. Frames: 1039\n",
            "Importing class 'walking' : 2. Frames: 1850\n",
            "Importing class 'stairs ' : 3. Frames: 165\n",
            "(1071, 91)\n",
            "     accelerometer_X_0  accelerometer_Y_0  accelerometer_Z_0  \\\n",
            "290           5.616797           6.871359          -1.800440   \n",
            "4            18.780119          19.091364          25.775976   \n",
            "488           0.402226           6.406884           7.637504   \n",
            "461          -0.430956           6.938397           6.924032   \n",
            "\n",
            "     accelerometer_X_1  accelerometer_Y_1  accelerometer_Z_1  \\\n",
            "290          -7.254431           5.951986           2.748544   \n",
            "4             4.007894          13.273455           5.683835   \n",
            "488           0.191536           6.488287           7.402872   \n",
            "461          -0.459687           6.943185           6.809110   \n",
            "\n",
            "     accelerometer_X_2  accelerometer_Y_2  accelerometer_Z_2  \\\n",
            "290          14.460979          16.342821          -0.320823   \n",
            "4             0.004788          -8.925584          -4.199430   \n",
            "488           0.047884           6.694188           7.273585   \n",
            "461          -0.502782           7.134722           6.373365   \n",
            "\n",
            "     accelerometer_X_3  ...  accelerometer_X_27  accelerometer_Y_27  \\\n",
            "290           7.704541  ...            7.489063            1.742979   \n",
            "4             9.552865  ...            0.622492           10.635044   \n",
            "488           0.086191  ...           -0.612916            5.463568   \n",
            "461          -0.464475  ...            0.785298            6.837840   \n",
            "\n",
            "     accelerometer_Z_27  accelerometer_X_28  accelerometer_Y_28  \\\n",
            "290            3.126828            8.714894           25.234886   \n",
            "4             -6.234501          -10.994174          -20.269312   \n",
            "488            8.039729           -0.708684            5.501876   \n",
            "461            6.904878            0.842759            7.067683   \n",
            "\n",
            "     accelerometer_Z_28  accelerometer_X_29  accelerometer_Y_29  \\\n",
            "290            3.078944            3.945645           18.981232   \n",
            "4             -2.145205            5.789180           12.411542   \n",
            "488            8.231265           -0.517148            5.702989   \n",
            "461            6.603208            0.814029            7.015011   \n",
            "\n",
            "     accelerometer_Z_29  class  \n",
            "290            8.911219      0  \n",
            "4              4.616021      0  \n",
            "488            7.752425      1  \n",
            "461            6.646304      1  \n",
            "\n",
            "[4 rows x 91 columns]\n",
            "\n",
            "DATASET f1s1. Where flatten=True, stat_feture=True\n",
            "Importing class 'running' : 0. Frames: 3408\n",
            "Importing class 'idle   ' : 1. Frames: 1039\n",
            "Importing class 'walking' : 2. Frames: 1850\n",
            "Importing class 'stairs ' : 3. Frames: 165\n",
            "(1071, 118)\n",
            "      accelerometer_X_0  accelerometer_Y_0  accelerometer_Z_0  \\\n",
            "1038           0.483629          -8.561666          -3.653552   \n",
            "809           -5.008670          -7.972691          -2.097321   \n",
            "411           -0.110133           0.229843           9.792285   \n",
            "147           -5.865794          18.899828          -0.603339   \n",
            "\n",
            "      accelerometer_X_1  accelerometer_Y_1  accelerometer_Z_1  \\\n",
            "1038           8.216900         -11.386824          -0.100556   \n",
            "809           -2.758120          -1.805228           1.230620   \n",
            "411           -0.105345           0.215478           9.782708   \n",
            "147            9.054871          28.098350           1.297657   \n",
            "\n",
            "      accelerometer_X_2  accelerometer_Y_2  accelerometer_Z_2  \\\n",
            "1038          -0.124498          -9.442732          -0.842759   \n",
            "809           -2.236184          -9.749189          -1.719037   \n",
            "411           -0.100556           0.225055           9.768343   \n",
            "147            1.532289          -2.590526           1.144428   \n",
            "\n",
            "      accelerometer_X_3  ...  accelerometer_Z_mean  accelerometer_Z_max  \\\n",
            "1038           2.657564  ...             -1.212264            15.011644   \n",
            "809           -2.580949  ...              0.600306            18.698715   \n",
            "411           -0.100556  ...              9.766268             9.811439   \n",
            "147           12.674904  ...              2.183193            13.469779   \n",
            "\n",
            "      accelerometer_Z_min  accelerometer_Z_interquartile_range  \\\n",
            "1038           -12.243947                             4.424485   \n",
            "809            -12.607866                             4.015077   \n",
            "411              9.701305                             0.027533   \n",
            "147             -7.517793                             5.902904   \n",
            "\n",
            "      accelerometer_Z_index_of_minimum_value  \\\n",
            "1038                                      17   \n",
            "809                                       19   \n",
            "411                                       21   \n",
            "147                                       19   \n",
            "\n",
            "      accelerometer_Z_mean_of_absolute_deviation  accelerometer_Z_median  \\\n",
            "1038                                    4.074559               -2.387019   \n",
            "809                                     4.047265               -0.644040   \n",
            "411                                     0.016578                9.768343   \n",
            "147                                     3.858708                1.063025   \n",
            "\n",
            "      accelerometer_Z_standard_deviation  \\\n",
            "1038                            5.778722   \n",
            "809                             6.065366   \n",
            "411                             0.022058   \n",
            "147                             4.934383   \n",
            "\n",
            "      accelerometer_Z_root_mean_square_error  class  \n",
            "1038                                1.212264      3  \n",
            "809                                 0.600306      2  \n",
            "411                                 9.766268      1  \n",
            "147                                 2.183193      0  \n",
            "\n",
            "[4 rows x 118 columns]\n"
          ]
        }
      ]
    },
    {
      "cell_type": "code",
      "source": [
        "key_set = list(df_set.keys())[0]\n",
        "for x in df_set[key_set]['class'].unique():\n",
        "  count = df_set[key_set]['class'][df_set[key_set]['class'] == x].count()\n",
        "  prop = count / df_set[key_set].shape[0]\n",
        "  print(f\"class: {x}, rows: {count:7}, {class_list[x]:7}, prop: {prop:.4}\" )"
      ],
      "metadata": {
        "colab": {
          "base_uri": "https://localhost:8080/"
        },
        "outputId": "958dd948-9b68-4da5-ba34-f40826d975a2",
        "id": "z6mVG5UtGzgr"
      },
      "execution_count": 28,
      "outputs": [
        {
          "output_type": "stream",
          "name": "stdout",
          "text": [
            "class: 0, rows:    9060, running, prop: 0.282\n",
            "class: 1, rows:    9060, idle   , prop: 0.282\n",
            "class: 2, rows:    9060, walking, prop: 0.282\n",
            "class: 3, rows:    4950, stairs , prop: 0.1541\n"
          ]
        }
      ]
    },
    {
      "cell_type": "markdown",
      "source": [
        "## COMPARE MODELS"
      ],
      "metadata": {
        "id": "3wsHkSh0ZwmP"
      }
    },
    {
      "cell_type": "code",
      "source": [
        "models = {\"SVC\": lambda: SVC(),\n",
        "          \"SVC_Linear\": lambda: SVC(kernel=\"linear\"),\n",
        "          \"RandomForestClassifier\": lambda: RandomForestClassifier()}\n",
        "reports = {}"
      ],
      "metadata": {
        "id": "Fzunb__6b62C"
      },
      "execution_count": 29,
      "outputs": []
    },
    {
      "cell_type": "code",
      "source": [
        "SEED = 42\n",
        "print(\"Models fit and prepare report\")\n",
        "for key in X_set.keys():\n",
        "  print(\"-\"*80)\n",
        "  print(f\"DATASET {key}. shape: {df_set[key].shape}\")\n",
        "  X = X_set[key]\n",
        "  y = y_set[key]\n",
        "  X_train, X_test, y_train, y_test = train_test_split(X, y, test_size=0.3, random_state=SEED, stratify=y)\n",
        "  if reports.get(key) is None:\n",
        "    reports[key] = {}\n",
        "  for model, classification in models.items():\n",
        "    print(f\"\\n- classification: {model}\")\n",
        "    if reports[key].get(model):\n",
        "      print(\"   alredy fit, skipped\")\n",
        "      continue\n",
        "    clf = classification()\n",
        "    %time clf.fit(X_train, y_train)\n",
        "    %time y_test_predict = clf.predict(X_test)\n",
        "    reports[key][model] = classification_report(y_test, y_test_predict, digits=4, target_names=class_list)\n"
      ],
      "metadata": {
        "colab": {
          "base_uri": "https://localhost:8080/"
        },
        "id": "WbKsWF1HZ7Qx",
        "outputId": "5a4720b0-66ba-4376-d064-17c15961d041"
      },
      "execution_count": 30,
      "outputs": [
        {
          "output_type": "stream",
          "name": "stdout",
          "text": [
            "Models fit and prepare report\n",
            "--------------------------------------------------------------------------------\n",
            "DATASET f0s0. shape: (32130, 4)\n",
            "\n",
            "- classification: SVC\n",
            "CPU times: user 7.19 s, sys: 430 ms, total: 7.62 s\n",
            "Wall time: 7.87 s\n",
            "CPU times: user 4.03 s, sys: 1.98 ms, total: 4.04 s\n",
            "Wall time: 4.03 s\n",
            "\n",
            "- classification: SVC_Linear\n",
            "CPU times: user 1min 22s, sys: 723 ms, total: 1min 23s\n",
            "Wall time: 1min 23s\n",
            "CPU times: user 2.64 s, sys: 2.97 ms, total: 2.64 s\n",
            "Wall time: 2.64 s\n",
            "\n",
            "- classification: RandomForestClassifier\n",
            "CPU times: user 1.52 s, sys: 3.99 ms, total: 1.52 s\n",
            "Wall time: 1.52 s\n",
            "CPU times: user 147 ms, sys: 1.02 ms, total: 148 ms\n",
            "Wall time: 148 ms\n",
            "--------------------------------------------------------------------------------\n",
            "DATASET f0s1. shape: (32130, 31)\n",
            "\n",
            "- classification: SVC\n",
            "CPU times: user 1.08 s, sys: 26 ms, total: 1.11 s\n",
            "Wall time: 1.11 s\n",
            "CPU times: user 914 ms, sys: 1.97 ms, total: 916 ms\n",
            "Wall time: 918 ms\n",
            "\n",
            "- classification: SVC_Linear\n",
            "CPU times: user 5.38 s, sys: 9.64 ms, total: 5.39 s\n",
            "Wall time: 5.72 s\n",
            "CPU times: user 92.3 ms, sys: 4 µs, total: 92.3 ms\n",
            "Wall time: 92 ms\n",
            "\n",
            "- classification: RandomForestClassifier\n",
            "CPU times: user 1.68 s, sys: 1 ms, total: 1.68 s\n",
            "Wall time: 1.68 s\n",
            "CPU times: user 87 ms, sys: 17 µs, total: 87 ms\n",
            "Wall time: 86.6 ms\n",
            "--------------------------------------------------------------------------------\n",
            "DATASET f1s0. shape: (1071, 91)\n",
            "\n",
            "- classification: SVC\n",
            "CPU times: user 21.1 ms, sys: 3 µs, total: 21.2 ms\n",
            "Wall time: 20.9 ms\n",
            "CPU times: user 16.6 ms, sys: 0 ns, total: 16.6 ms\n",
            "Wall time: 16.4 ms\n",
            "\n",
            "- classification: SVC_Linear\n",
            "CPU times: user 41.5 ms, sys: 8 µs, total: 41.5 ms\n",
            "Wall time: 41.2 ms\n",
            "CPU times: user 8.39 ms, sys: 1 µs, total: 8.39 ms\n",
            "Wall time: 9.69 ms\n",
            "\n",
            "- classification: RandomForestClassifier\n",
            "CPU times: user 459 ms, sys: 3 ms, total: 462 ms\n",
            "Wall time: 462 ms\n",
            "CPU times: user 12.5 ms, sys: 0 ns, total: 12.5 ms\n",
            "Wall time: 12.5 ms\n",
            "--------------------------------------------------------------------------------\n",
            "DATASET f1s1. shape: (1071, 118)\n",
            "\n",
            "- classification: SVC\n",
            "CPU times: user 28.7 ms, sys: 29 µs, total: 28.7 ms\n",
            "Wall time: 29.4 ms\n",
            "CPU times: user 14.9 ms, sys: 0 ns, total: 14.9 ms\n",
            "Wall time: 14.9 ms\n",
            "\n",
            "- classification: SVC_Linear\n",
            "CPU times: user 11.5 ms, sys: 0 ns, total: 11.5 ms\n",
            "Wall time: 11.3 ms\n",
            "CPU times: user 6.1 ms, sys: 0 ns, total: 6.1 ms\n",
            "Wall time: 6.05 ms\n",
            "\n",
            "- classification: RandomForestClassifier\n",
            "CPU times: user 374 ms, sys: 3.01 ms, total: 377 ms\n",
            "Wall time: 378 ms\n",
            "CPU times: user 12.6 ms, sys: 0 ns, total: 12.6 ms\n",
            "Wall time: 12.5 ms\n"
          ]
        }
      ]
    },
    {
      "cell_type": "markdown",
      "source": [
        "## Classification report"
      ],
      "metadata": {
        "id": "dHPChmT0gwRT"
      }
    },
    {
      "cell_type": "code",
      "source": [
        "print(f\"{limit_frames=}\")\n",
        "for dset in reports.keys():\n",
        "  for model in reports[dset].keys():\n",
        "    print(\"-\"*80)\n",
        "    print(f\"Data set: {dset}, shape: {df_set[dset].shape}, model: {model}\")\n",
        "    print(reports[dset][model])"
      ],
      "metadata": {
        "colab": {
          "base_uri": "https://localhost:8080/"
        },
        "id": "uU6QAI4Cg07r",
        "outputId": "35325acb-df71-4413-8790-700919d325c3"
      },
      "execution_count": 32,
      "outputs": [
        {
          "output_type": "stream",
          "name": "stdout",
          "text": [
            "limit_frames=300\n",
            "--------------------------------------------------------------------------------\n",
            "Data set: f0s0, shape: (32130, 4), model: SVC\n",
            "              precision    recall  f1-score   support\n",
            "\n",
            "     running     0.9030    0.8289    0.8644      2718\n",
            "        idle     0.9688    0.9952    0.9819      2718\n",
            "     walking     0.7509    0.9007    0.8190      2718\n",
            "      stairs     0.6016    0.4424    0.5099      1485\n",
            "\n",
            "    accuracy                         0.8365      9639\n",
            "   macro avg     0.8061    0.7918    0.7938      9639\n",
            "weighted avg     0.8323    0.8365    0.8301      9639\n",
            "\n",
            "--------------------------------------------------------------------------------\n",
            "Data set: f0s0, shape: (32130, 4), model: SVC_Linear\n",
            "              precision    recall  f1-score   support\n",
            "\n",
            "     running     0.8935    0.6825    0.7739      2718\n",
            "        idle     0.9307    0.9787    0.9541      2718\n",
            "     walking     0.7012    0.8558    0.7708      2718\n",
            "      stairs     0.4971    0.4646    0.4803      1485\n",
            "\n",
            "    accuracy                         0.7813      9639\n",
            "   macro avg     0.7557    0.7454    0.7448      9639\n",
            "weighted avg     0.7887    0.7813    0.7786      9639\n",
            "\n",
            "--------------------------------------------------------------------------------\n",
            "Data set: f0s0, shape: (32130, 4), model: RandomForestClassifier\n",
            "              precision    recall  f1-score   support\n",
            "\n",
            "     running     0.9971    0.9996    0.9983      2718\n",
            "        idle     0.9996    1.0000    0.9998      2718\n",
            "     walking     0.9993    0.9993    0.9993      2718\n",
            "      stairs     1.0000    0.9946    0.9973      1485\n",
            "\n",
            "    accuracy                         0.9989      9639\n",
            "   macro avg     0.9990    0.9984    0.9987      9639\n",
            "weighted avg     0.9989    0.9989    0.9989      9639\n",
            "\n",
            "--------------------------------------------------------------------------------\n",
            "Data set: f0s1, shape: (32130, 31), model: SVC\n",
            "              precision    recall  f1-score   support\n",
            "\n",
            "     running     1.0000    1.0000    1.0000      2718\n",
            "        idle     1.0000    1.0000    1.0000      2718\n",
            "     walking     0.9880    0.9956    0.9918      2718\n",
            "      stairs     0.9918    0.9778    0.9847      1485\n",
            "\n",
            "    accuracy                         0.9953      9639\n",
            "   macro avg     0.9949    0.9933    0.9941      9639\n",
            "weighted avg     0.9953    0.9953    0.9953      9639\n",
            "\n",
            "--------------------------------------------------------------------------------\n",
            "Data set: f0s1, shape: (32130, 31), model: SVC_Linear\n",
            "              precision    recall  f1-score   support\n",
            "\n",
            "     running     1.0000    1.0000    1.0000      2718\n",
            "        idle     1.0000    1.0000    1.0000      2718\n",
            "     walking     1.0000    0.9967    0.9983      2718\n",
            "      stairs     0.9940    1.0000    0.9970      1485\n",
            "\n",
            "    accuracy                         0.9991      9639\n",
            "   macro avg     0.9985    0.9992    0.9988      9639\n",
            "weighted avg     0.9991    0.9991    0.9991      9639\n",
            "\n",
            "--------------------------------------------------------------------------------\n",
            "Data set: f0s1, shape: (32130, 31), model: RandomForestClassifier\n",
            "              precision    recall  f1-score   support\n",
            "\n",
            "     running     1.0000    1.0000    1.0000      2718\n",
            "        idle     1.0000    1.0000    1.0000      2718\n",
            "     walking     1.0000    1.0000    1.0000      2718\n",
            "      stairs     1.0000    1.0000    1.0000      1485\n",
            "\n",
            "    accuracy                         1.0000      9639\n",
            "   macro avg     1.0000    1.0000    1.0000      9639\n",
            "weighted avg     1.0000    1.0000    1.0000      9639\n",
            "\n",
            "--------------------------------------------------------------------------------\n",
            "Data set: f1s0, shape: (1071, 91), model: SVC\n",
            "              precision    recall  f1-score   support\n",
            "\n",
            "     running     1.0000    1.0000    1.0000        91\n",
            "        idle     1.0000    1.0000    1.0000        91\n",
            "     walking     0.8830    0.9121    0.8973        91\n",
            "      stairs     0.8261    0.7755    0.8000        49\n",
            "\n",
            "    accuracy                         0.9410       322\n",
            "   macro avg     0.9273    0.9219    0.9243       322\n",
            "weighted avg     0.9405    0.9410    0.9405       322\n",
            "\n",
            "--------------------------------------------------------------------------------\n",
            "Data set: f1s0, shape: (1071, 91), model: SVC_Linear\n",
            "              precision    recall  f1-score   support\n",
            "\n",
            "     running     1.0000    0.9890    0.9945        91\n",
            "        idle     0.9891    1.0000    0.9945        91\n",
            "     walking     0.8415    0.7582    0.7977        91\n",
            "      stairs     0.6207    0.7347    0.6729        49\n",
            "\n",
            "    accuracy                         0.8882       322\n",
            "   macro avg     0.8628    0.8705    0.8649       322\n",
            "weighted avg     0.8944    0.8882    0.8899       322\n",
            "\n",
            "--------------------------------------------------------------------------------\n",
            "Data set: f1s0, shape: (1071, 91), model: RandomForestClassifier\n",
            "              precision    recall  f1-score   support\n",
            "\n",
            "     running     1.0000    1.0000    1.0000        91\n",
            "        idle     1.0000    1.0000    1.0000        91\n",
            "     walking     0.8878    0.9560    0.9206        91\n",
            "      stairs     0.9048    0.7755    0.8352        49\n",
            "\n",
            "    accuracy                         0.9534       322\n",
            "   macro avg     0.9481    0.9329    0.9389       322\n",
            "weighted avg     0.9538    0.9534    0.9525       322\n",
            "\n",
            "--------------------------------------------------------------------------------\n",
            "Data set: f1s1, shape: (1071, 118), model: SVC\n",
            "              precision    recall  f1-score   support\n",
            "\n",
            "     running     1.0000    1.0000    1.0000        91\n",
            "        idle     1.0000    1.0000    1.0000        91\n",
            "     walking     0.8842    0.9231    0.9032        91\n",
            "      stairs     0.8444    0.7755    0.8085        49\n",
            "\n",
            "    accuracy                         0.9441       322\n",
            "   macro avg     0.9322    0.9246    0.9279       322\n",
            "weighted avg     0.9436    0.9441    0.9435       322\n",
            "\n",
            "--------------------------------------------------------------------------------\n",
            "Data set: f1s1, shape: (1071, 118), model: SVC_Linear\n",
            "              precision    recall  f1-score   support\n",
            "\n",
            "     running     1.0000    1.0000    1.0000        91\n",
            "        idle     1.0000    1.0000    1.0000        91\n",
            "     walking     0.8750    0.8462    0.8603        91\n",
            "      stairs     0.7308    0.7755    0.7525        49\n",
            "\n",
            "    accuracy                         0.9224       322\n",
            "   macro avg     0.9014    0.9054    0.9032       322\n",
            "weighted avg     0.9237    0.9224    0.9229       322\n",
            "\n",
            "--------------------------------------------------------------------------------\n",
            "Data set: f1s1, shape: (1071, 118), model: RandomForestClassifier\n",
            "              precision    recall  f1-score   support\n",
            "\n",
            "     running     1.0000    1.0000    1.0000        91\n",
            "        idle     1.0000    1.0000    1.0000        91\n",
            "     walking     0.9474    0.9890    0.9677        91\n",
            "      stairs     0.9778    0.8980    0.9362        49\n",
            "\n",
            "    accuracy                         0.9814       322\n",
            "   macro avg     0.9813    0.9717    0.9760       322\n",
            "weighted avg     0.9817    0.9814    0.9812       322\n",
            "\n"
          ]
        }
      ]
    }
  ]
}