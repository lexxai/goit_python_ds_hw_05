{
  "nbformat": 4,
  "nbformat_minor": 0,
  "metadata": {
    "colab": {
      "provenance": [],
      "collapsed_sections": [
        "PC4CSx8zN79m"
      ],
      "gpuType": "T4",
      "authorship_tag": "ABX9TyOGVA8ZWzlJrX/G3TeLlDZ2",
      "include_colab_link": true
    },
    "kernelspec": {
      "name": "python3",
      "display_name": "Python 3"
    },
    "language_info": {
      "name": "python"
    }
  },
  "cells": [
    {
      "cell_type": "markdown",
      "metadata": {
        "id": "view-in-github",
        "colab_type": "text"
      },
      "source": [
        "<a href=\"https://colab.research.google.com/github/lexxai/goit_python_ds_hw_05/blob/main/goit_ds_hw_05.ipynb\" target=\"_parent\"><img src=\"https://colab.research.google.com/assets/colab-badge.svg\" alt=\"Open In Colab\"/></a>"
      ]
    },
    {
      "cell_type": "markdown",
      "source": [
        "## LOAD DATASET"
      ],
      "metadata": {
        "id": "AW7Ag9r3BfSV"
      }
    },
    {
      "cell_type": "code",
      "source": [
        "import pandas as pd\n",
        "import numpy as np"
      ],
      "metadata": {
        "id": "1D0oT1i-ROzp"
      },
      "execution_count": 1,
      "outputs": []
    },
    {
      "cell_type": "code",
      "source": [
        "from pathlib import Path\n",
        "\n",
        "SAVED_DATAFRAME = Path(\"/content/data.feather\")\n",
        "URL = \"https://drive.usercontent.google.com/download?id=1nzrtQpfaHL0OgJ_eXzA7VuEj7XotrSWO&export=download&authuser=0\"\n",
        "OUTPUT = Path(\"/content/homework.zip\")\n",
        "CSV_DATA_PATH  = Path(\"/content/data\")"
      ],
      "metadata": {
        "id": "6PnBB155s5Pd"
      },
      "execution_count": 2,
      "outputs": []
    },
    {
      "cell_type": "code",
      "source": [
        "if SAVED_DATAFRAME.is_file():\n",
        "  df = pd.read_feather(SAVED_DATAFRAME)\n",
        "else:\n",
        "  df = pd.DataFrame()"
      ],
      "metadata": {
        "id": "k03po368tWcn"
      },
      "execution_count": 3,
      "outputs": []
    },
    {
      "cell_type": "code",
      "execution_count": 4,
      "metadata": {
        "colab": {
          "base_uri": "https://localhost:8080/"
        },
        "id": "GzZEhfMLIgwU",
        "outputId": "e0b6146f-9b79-4e68-ae7a-e83e2ba3be55"
      },
      "outputs": [
        {
          "output_type": "stream",
          "name": "stdout",
          "text": [
            "--2024-01-30 04:04:48--  https://drive.usercontent.google.com/download?id=1nzrtQpfaHL0OgJ_eXzA7VuEj7XotrSWO\n",
            "Resolving drive.usercontent.google.com (drive.usercontent.google.com)... 108.177.127.132, 2a00:1450:4013:c07::84\n",
            "Connecting to drive.usercontent.google.com (drive.usercontent.google.com)|108.177.127.132|:443... connected.\n",
            "HTTP request sent, awaiting response... 200 OK\n",
            "Length: 4211746 (4.0M) [application/octet-stream]\n",
            "Saving to: ‘/content/homework.zip’\n",
            "\n",
            "/content/homework.z 100%[===================>]   4.02M  --.-KB/s    in 0.02s   \n",
            "\n",
            "2024-01-30 04:05:18 (230 MB/s) - ‘/content/homework.zip’ saved [4211746/4211746]\n",
            "\n"
          ]
        }
      ],
      "source": [
        "if not OUTPUT.is_file() and df.empty:\n",
        "  !wget -O $OUTPUT $URL\n",
        "\n",
        "if OUTPUT.is_file() and df.empty and not CSV_DATA_PATH.is_dir():\n",
        "  !unzip -q -o $OUTPUT\n",
        "  #!rm $OUTPUT"
      ]
    },
    {
      "cell_type": "code",
      "source": [
        "if df.empty:\n",
        "  class_path = list(CSV_DATA_PATH.iterdir())\n",
        "  class_list = list(d.name for d in class_path)\n",
        "  print(class_list)"
      ],
      "metadata": {
        "colab": {
          "base_uri": "https://localhost:8080/"
        },
        "id": "JlsLFHAeMD-T",
        "outputId": "63824d1c-45a9-46a3-f0f1-8ddc06d55408"
      },
      "execution_count": 5,
      "outputs": [
        {
          "output_type": "stream",
          "name": "stdout",
          "text": [
            "['stairs', 'idle', 'walking', 'running']\n"
          ]
        }
      ]
    },
    {
      "cell_type": "markdown",
      "source": [
        "## BUILD DataFrame"
      ],
      "metadata": {
        "id": "FmsQbzSxPLOt"
      }
    },
    {
      "cell_type": "code",
      "source": [
        "def flatten_frame(frame):\n",
        "        columns=[f\"{col}_{i}\" for i in range(frame.shape[0]) for col in frame.columns]\n",
        "        return pd.DataFrame(frame.values.reshape(1, -1), columns=columns)"
      ],
      "metadata": {
        "id": "cwvTi6GrUNPb"
      },
      "execution_count": 6,
      "outputs": []
    },
    {
      "cell_type": "code",
      "source": [
        "def add_stat_feature_frame(frame, rows):\n",
        "  features = []\n",
        "  features.append(pd.DataFrame([frame.iloc[:,0].mean()]*rows,columns=['X_mean']))\n",
        "  features.append(pd.DataFrame([frame.iloc[:,1].mean()]*rows,columns=['Y_mean']))\n",
        "  features.append(pd.DataFrame([frame.iloc[:,1].mean()]*rows,columns=['Z_mean']))\n",
        "  result = pd.concat(features, axis=1)\n",
        "  return result"
      ],
      "metadata": {
        "id": "0fgZZnp5VadH"
      },
      "execution_count": 7,
      "outputs": []
    },
    {
      "cell_type": "code",
      "source": [
        "# df = pd.DataFrame()\n",
        "if df.empty:\n",
        "  FLATTEN = True\n",
        "  STAT_FEATURE = True\n",
        "  dfws = []\n",
        "  limit_frames = None\n",
        "  for class_id, work_class_path in enumerate(class_path):\n",
        "    list_files = list(sorted(work_class_path.glob('*.csv'), key=lambda path: int(path.stem.rsplit(\"-\", 1)[1])))\n",
        "    print(f\"Importing class '{work_class_path.name:7}' : {class_id}. Frames: {len(list_files)}\")\n",
        "    for i, filename in enumerate(list_files):\n",
        "      # READ FRAME CSV FILE\n",
        "      df_w: pd.DataFrame = pd.read_csv(filename)\n",
        "      addon_features = [df_w]\n",
        "      if FLATTEN:\n",
        "        addon_features = [flatten_frame(df_w)]\n",
        "      if STAT_FEATURE:\n",
        "        addon_features.append(add_stat_feature_frame(df_w,addon_features[-1].shape[0]))\n",
        "      df_w = pd.concat(addon_features, axis=1)\n",
        "      df_w['class'] = class_id\n",
        "      dfws.append(df_w)\n",
        "      if limit_frames and (i > limit_frames):\n",
        "        break\n",
        "  df = pd.concat(dfws, axis=0, ignore_index=True)\n",
        "# print(df.info())\n",
        "print(df.shape)"
      ],
      "metadata": {
        "colab": {
          "base_uri": "https://localhost:8080/"
        },
        "id": "OvnbGTwgNt-y",
        "outputId": "46d01517-d882-4ca5-c6ff-5073f26ba63f"
      },
      "execution_count": 8,
      "outputs": [
        {
          "output_type": "stream",
          "name": "stdout",
          "text": [
            "Importing class 'stairs ' : 0. Frames: 165\n",
            "Importing class 'idle   ' : 1. Frames: 1039\n",
            "Importing class 'walking' : 2. Frames: 1850\n",
            "Importing class 'running' : 3. Frames: 3408\n",
            "(6462, 94)\n"
          ]
        }
      ]
    },
    {
      "cell_type": "code",
      "source": [
        "df.sample(4)"
      ],
      "metadata": {
        "colab": {
          "base_uri": "https://localhost:8080/",
          "height": 224
        },
        "id": "ulVedbIsanhy",
        "outputId": "0f38bcd6-e8a6-40d4-93d8-4d05b705f1f9"
      },
      "execution_count": 9,
      "outputs": [
        {
          "output_type": "execute_result",
          "data": {
            "text/plain": [
              "      accelerometer_X_0  accelerometer_Y_0  accelerometer_Z_0  \\\n",
              "275           -0.100556           0.225055           9.768343   \n",
              "1727          -1.982399          -7.062895          -0.689530   \n",
              "3304           7.651869          20.422540           0.023942   \n",
              "4936           0.656011          10.769119          -1.551443   \n",
              "\n",
              "      accelerometer_X_1  accelerometer_Y_1  accelerometer_Z_1  \\\n",
              "275           -0.100556           0.225055           9.753978   \n",
              "1727          -0.229843          -1.288081           5.080496   \n",
              "3304           2.389413          17.808075          -2.011129   \n",
              "4936           4.975151          -7.010222          -7.987056   \n",
              "\n",
              "      accelerometer_X_2  accelerometer_Y_2  accelerometer_Z_2  \\\n",
              "275           -0.095768           0.225055           9.787497   \n",
              "1727          -1.134852          -7.776367          -0.134075   \n",
              "3304          -5.525817         -19.756952         -23.305159   \n",
              "4936          -0.991199           4.668694           4.544195   \n",
              "\n",
              "      accelerometer_X_3  ...  accelerometer_X_28  accelerometer_Y_28  \\\n",
              "275           -0.110133  ...           -0.316035            0.201113   \n",
              "1727           1.134852  ...            7.383718           10.879252   \n",
              "3304           4.189853  ...           18.966866           35.142094   \n",
              "4936          -4.548983  ...           -4.745308            6.023812   \n",
              "\n",
              "      accelerometer_Z_28  accelerometer_X_29  accelerometer_Y_29  \\\n",
              "275             9.576807           -0.770933           -0.641646   \n",
              "1727           19.177555           -2.341529          -12.061988   \n",
              "3304           14.920665           -6.512228            9.686940   \n",
              "4936           -6.095637            9.050082          -14.575900   \n",
              "\n",
              "      accelerometer_Z_29    X_mean    Y_mean    Z_mean  class  \n",
              "275            10.065224 -0.129766  0.195686  0.195686      1  \n",
              "1727           -0.282516 -3.282929 -9.063171 -9.063171      2  \n",
              "3304           -2.327164  4.809472  9.443530  9.443530      3  \n",
              "4936            3.217807  4.252102  7.535351  7.535351      3  \n",
              "\n",
              "[4 rows x 94 columns]"
            ],
            "text/html": [
              "\n",
              "  <div id=\"df-1e627e30-8beb-4f57-98d5-87afbb945a77\" class=\"colab-df-container\">\n",
              "    <div>\n",
              "<style scoped>\n",
              "    .dataframe tbody tr th:only-of-type {\n",
              "        vertical-align: middle;\n",
              "    }\n",
              "\n",
              "    .dataframe tbody tr th {\n",
              "        vertical-align: top;\n",
              "    }\n",
              "\n",
              "    .dataframe thead th {\n",
              "        text-align: right;\n",
              "    }\n",
              "</style>\n",
              "<table border=\"1\" class=\"dataframe\">\n",
              "  <thead>\n",
              "    <tr style=\"text-align: right;\">\n",
              "      <th></th>\n",
              "      <th>accelerometer_X_0</th>\n",
              "      <th>accelerometer_Y_0</th>\n",
              "      <th>accelerometer_Z_0</th>\n",
              "      <th>accelerometer_X_1</th>\n",
              "      <th>accelerometer_Y_1</th>\n",
              "      <th>accelerometer_Z_1</th>\n",
              "      <th>accelerometer_X_2</th>\n",
              "      <th>accelerometer_Y_2</th>\n",
              "      <th>accelerometer_Z_2</th>\n",
              "      <th>accelerometer_X_3</th>\n",
              "      <th>...</th>\n",
              "      <th>accelerometer_X_28</th>\n",
              "      <th>accelerometer_Y_28</th>\n",
              "      <th>accelerometer_Z_28</th>\n",
              "      <th>accelerometer_X_29</th>\n",
              "      <th>accelerometer_Y_29</th>\n",
              "      <th>accelerometer_Z_29</th>\n",
              "      <th>X_mean</th>\n",
              "      <th>Y_mean</th>\n",
              "      <th>Z_mean</th>\n",
              "      <th>class</th>\n",
              "    </tr>\n",
              "  </thead>\n",
              "  <tbody>\n",
              "    <tr>\n",
              "      <th>275</th>\n",
              "      <td>-0.100556</td>\n",
              "      <td>0.225055</td>\n",
              "      <td>9.768343</td>\n",
              "      <td>-0.100556</td>\n",
              "      <td>0.225055</td>\n",
              "      <td>9.753978</td>\n",
              "      <td>-0.095768</td>\n",
              "      <td>0.225055</td>\n",
              "      <td>9.787497</td>\n",
              "      <td>-0.110133</td>\n",
              "      <td>...</td>\n",
              "      <td>-0.316035</td>\n",
              "      <td>0.201113</td>\n",
              "      <td>9.576807</td>\n",
              "      <td>-0.770933</td>\n",
              "      <td>-0.641646</td>\n",
              "      <td>10.065224</td>\n",
              "      <td>-0.129766</td>\n",
              "      <td>0.195686</td>\n",
              "      <td>0.195686</td>\n",
              "      <td>1</td>\n",
              "    </tr>\n",
              "    <tr>\n",
              "      <th>1727</th>\n",
              "      <td>-1.982399</td>\n",
              "      <td>-7.062895</td>\n",
              "      <td>-0.689530</td>\n",
              "      <td>-0.229843</td>\n",
              "      <td>-1.288081</td>\n",
              "      <td>5.080496</td>\n",
              "      <td>-1.134852</td>\n",
              "      <td>-7.776367</td>\n",
              "      <td>-0.134075</td>\n",
              "      <td>1.134852</td>\n",
              "      <td>...</td>\n",
              "      <td>7.383718</td>\n",
              "      <td>10.879252</td>\n",
              "      <td>19.177555</td>\n",
              "      <td>-2.341529</td>\n",
              "      <td>-12.061988</td>\n",
              "      <td>-0.282516</td>\n",
              "      <td>-3.282929</td>\n",
              "      <td>-9.063171</td>\n",
              "      <td>-9.063171</td>\n",
              "      <td>2</td>\n",
              "    </tr>\n",
              "    <tr>\n",
              "      <th>3304</th>\n",
              "      <td>7.651869</td>\n",
              "      <td>20.422540</td>\n",
              "      <td>0.023942</td>\n",
              "      <td>2.389413</td>\n",
              "      <td>17.808075</td>\n",
              "      <td>-2.011129</td>\n",
              "      <td>-5.525817</td>\n",
              "      <td>-19.756952</td>\n",
              "      <td>-23.305159</td>\n",
              "      <td>4.189853</td>\n",
              "      <td>...</td>\n",
              "      <td>18.966866</td>\n",
              "      <td>35.142094</td>\n",
              "      <td>14.920665</td>\n",
              "      <td>-6.512228</td>\n",
              "      <td>9.686940</td>\n",
              "      <td>-2.327164</td>\n",
              "      <td>4.809472</td>\n",
              "      <td>9.443530</td>\n",
              "      <td>9.443530</td>\n",
              "      <td>3</td>\n",
              "    </tr>\n",
              "    <tr>\n",
              "      <th>4936</th>\n",
              "      <td>0.656011</td>\n",
              "      <td>10.769119</td>\n",
              "      <td>-1.551443</td>\n",
              "      <td>4.975151</td>\n",
              "      <td>-7.010222</td>\n",
              "      <td>-7.987056</td>\n",
              "      <td>-0.991199</td>\n",
              "      <td>4.668694</td>\n",
              "      <td>4.544195</td>\n",
              "      <td>-4.548983</td>\n",
              "      <td>...</td>\n",
              "      <td>-4.745308</td>\n",
              "      <td>6.023812</td>\n",
              "      <td>-6.095637</td>\n",
              "      <td>9.050082</td>\n",
              "      <td>-14.575900</td>\n",
              "      <td>3.217807</td>\n",
              "      <td>4.252102</td>\n",
              "      <td>7.535351</td>\n",
              "      <td>7.535351</td>\n",
              "      <td>3</td>\n",
              "    </tr>\n",
              "  </tbody>\n",
              "</table>\n",
              "<p>4 rows × 94 columns</p>\n",
              "</div>\n",
              "    <div class=\"colab-df-buttons\">\n",
              "\n",
              "  <div class=\"colab-df-container\">\n",
              "    <button class=\"colab-df-convert\" onclick=\"convertToInteractive('df-1e627e30-8beb-4f57-98d5-87afbb945a77')\"\n",
              "            title=\"Convert this dataframe to an interactive table.\"\n",
              "            style=\"display:none;\">\n",
              "\n",
              "  <svg xmlns=\"http://www.w3.org/2000/svg\" height=\"24px\" viewBox=\"0 -960 960 960\">\n",
              "    <path d=\"M120-120v-720h720v720H120Zm60-500h600v-160H180v160Zm220 220h160v-160H400v160Zm0 220h160v-160H400v160ZM180-400h160v-160H180v160Zm440 0h160v-160H620v160ZM180-180h160v-160H180v160Zm440 0h160v-160H620v160Z\"/>\n",
              "  </svg>\n",
              "    </button>\n",
              "\n",
              "  <style>\n",
              "    .colab-df-container {\n",
              "      display:flex;\n",
              "      gap: 12px;\n",
              "    }\n",
              "\n",
              "    .colab-df-convert {\n",
              "      background-color: #E8F0FE;\n",
              "      border: none;\n",
              "      border-radius: 50%;\n",
              "      cursor: pointer;\n",
              "      display: none;\n",
              "      fill: #1967D2;\n",
              "      height: 32px;\n",
              "      padding: 0 0 0 0;\n",
              "      width: 32px;\n",
              "    }\n",
              "\n",
              "    .colab-df-convert:hover {\n",
              "      background-color: #E2EBFA;\n",
              "      box-shadow: 0px 1px 2px rgba(60, 64, 67, 0.3), 0px 1px 3px 1px rgba(60, 64, 67, 0.15);\n",
              "      fill: #174EA6;\n",
              "    }\n",
              "\n",
              "    .colab-df-buttons div {\n",
              "      margin-bottom: 4px;\n",
              "    }\n",
              "\n",
              "    [theme=dark] .colab-df-convert {\n",
              "      background-color: #3B4455;\n",
              "      fill: #D2E3FC;\n",
              "    }\n",
              "\n",
              "    [theme=dark] .colab-df-convert:hover {\n",
              "      background-color: #434B5C;\n",
              "      box-shadow: 0px 1px 3px 1px rgba(0, 0, 0, 0.15);\n",
              "      filter: drop-shadow(0px 1px 2px rgba(0, 0, 0, 0.3));\n",
              "      fill: #FFFFFF;\n",
              "    }\n",
              "  </style>\n",
              "\n",
              "    <script>\n",
              "      const buttonEl =\n",
              "        document.querySelector('#df-1e627e30-8beb-4f57-98d5-87afbb945a77 button.colab-df-convert');\n",
              "      buttonEl.style.display =\n",
              "        google.colab.kernel.accessAllowed ? 'block' : 'none';\n",
              "\n",
              "      async function convertToInteractive(key) {\n",
              "        const element = document.querySelector('#df-1e627e30-8beb-4f57-98d5-87afbb945a77');\n",
              "        const dataTable =\n",
              "          await google.colab.kernel.invokeFunction('convertToInteractive',\n",
              "                                                    [key], {});\n",
              "        if (!dataTable) return;\n",
              "\n",
              "        const docLinkHtml = 'Like what you see? Visit the ' +\n",
              "          '<a target=\"_blank\" href=https://colab.research.google.com/notebooks/data_table.ipynb>data table notebook</a>'\n",
              "          + ' to learn more about interactive tables.';\n",
              "        element.innerHTML = '';\n",
              "        dataTable['output_type'] = 'display_data';\n",
              "        await google.colab.output.renderOutput(dataTable, element);\n",
              "        const docLink = document.createElement('div');\n",
              "        docLink.innerHTML = docLinkHtml;\n",
              "        element.appendChild(docLink);\n",
              "      }\n",
              "    </script>\n",
              "  </div>\n",
              "\n",
              "\n",
              "<div id=\"df-699a67b7-bf6d-4bb1-9fa3-dc119895dd78\">\n",
              "  <button class=\"colab-df-quickchart\" onclick=\"quickchart('df-699a67b7-bf6d-4bb1-9fa3-dc119895dd78')\"\n",
              "            title=\"Suggest charts\"\n",
              "            style=\"display:none;\">\n",
              "\n",
              "<svg xmlns=\"http://www.w3.org/2000/svg\" height=\"24px\"viewBox=\"0 0 24 24\"\n",
              "     width=\"24px\">\n",
              "    <g>\n",
              "        <path d=\"M19 3H5c-1.1 0-2 .9-2 2v14c0 1.1.9 2 2 2h14c1.1 0 2-.9 2-2V5c0-1.1-.9-2-2-2zM9 17H7v-7h2v7zm4 0h-2V7h2v10zm4 0h-2v-4h2v4z\"/>\n",
              "    </g>\n",
              "</svg>\n",
              "  </button>\n",
              "\n",
              "<style>\n",
              "  .colab-df-quickchart {\n",
              "      --bg-color: #E8F0FE;\n",
              "      --fill-color: #1967D2;\n",
              "      --hover-bg-color: #E2EBFA;\n",
              "      --hover-fill-color: #174EA6;\n",
              "      --disabled-fill-color: #AAA;\n",
              "      --disabled-bg-color: #DDD;\n",
              "  }\n",
              "\n",
              "  [theme=dark] .colab-df-quickchart {\n",
              "      --bg-color: #3B4455;\n",
              "      --fill-color: #D2E3FC;\n",
              "      --hover-bg-color: #434B5C;\n",
              "      --hover-fill-color: #FFFFFF;\n",
              "      --disabled-bg-color: #3B4455;\n",
              "      --disabled-fill-color: #666;\n",
              "  }\n",
              "\n",
              "  .colab-df-quickchart {\n",
              "    background-color: var(--bg-color);\n",
              "    border: none;\n",
              "    border-radius: 50%;\n",
              "    cursor: pointer;\n",
              "    display: none;\n",
              "    fill: var(--fill-color);\n",
              "    height: 32px;\n",
              "    padding: 0;\n",
              "    width: 32px;\n",
              "  }\n",
              "\n",
              "  .colab-df-quickchart:hover {\n",
              "    background-color: var(--hover-bg-color);\n",
              "    box-shadow: 0 1px 2px rgba(60, 64, 67, 0.3), 0 1px 3px 1px rgba(60, 64, 67, 0.15);\n",
              "    fill: var(--button-hover-fill-color);\n",
              "  }\n",
              "\n",
              "  .colab-df-quickchart-complete:disabled,\n",
              "  .colab-df-quickchart-complete:disabled:hover {\n",
              "    background-color: var(--disabled-bg-color);\n",
              "    fill: var(--disabled-fill-color);\n",
              "    box-shadow: none;\n",
              "  }\n",
              "\n",
              "  .colab-df-spinner {\n",
              "    border: 2px solid var(--fill-color);\n",
              "    border-color: transparent;\n",
              "    border-bottom-color: var(--fill-color);\n",
              "    animation:\n",
              "      spin 1s steps(1) infinite;\n",
              "  }\n",
              "\n",
              "  @keyframes spin {\n",
              "    0% {\n",
              "      border-color: transparent;\n",
              "      border-bottom-color: var(--fill-color);\n",
              "      border-left-color: var(--fill-color);\n",
              "    }\n",
              "    20% {\n",
              "      border-color: transparent;\n",
              "      border-left-color: var(--fill-color);\n",
              "      border-top-color: var(--fill-color);\n",
              "    }\n",
              "    30% {\n",
              "      border-color: transparent;\n",
              "      border-left-color: var(--fill-color);\n",
              "      border-top-color: var(--fill-color);\n",
              "      border-right-color: var(--fill-color);\n",
              "    }\n",
              "    40% {\n",
              "      border-color: transparent;\n",
              "      border-right-color: var(--fill-color);\n",
              "      border-top-color: var(--fill-color);\n",
              "    }\n",
              "    60% {\n",
              "      border-color: transparent;\n",
              "      border-right-color: var(--fill-color);\n",
              "    }\n",
              "    80% {\n",
              "      border-color: transparent;\n",
              "      border-right-color: var(--fill-color);\n",
              "      border-bottom-color: var(--fill-color);\n",
              "    }\n",
              "    90% {\n",
              "      border-color: transparent;\n",
              "      border-bottom-color: var(--fill-color);\n",
              "    }\n",
              "  }\n",
              "</style>\n",
              "\n",
              "  <script>\n",
              "    async function quickchart(key) {\n",
              "      const quickchartButtonEl =\n",
              "        document.querySelector('#' + key + ' button');\n",
              "      quickchartButtonEl.disabled = true;  // To prevent multiple clicks.\n",
              "      quickchartButtonEl.classList.add('colab-df-spinner');\n",
              "      try {\n",
              "        const charts = await google.colab.kernel.invokeFunction(\n",
              "            'suggestCharts', [key], {});\n",
              "      } catch (error) {\n",
              "        console.error('Error during call to suggestCharts:', error);\n",
              "      }\n",
              "      quickchartButtonEl.classList.remove('colab-df-spinner');\n",
              "      quickchartButtonEl.classList.add('colab-df-quickchart-complete');\n",
              "    }\n",
              "    (() => {\n",
              "      let quickchartButtonEl =\n",
              "        document.querySelector('#df-699a67b7-bf6d-4bb1-9fa3-dc119895dd78 button');\n",
              "      quickchartButtonEl.style.display =\n",
              "        google.colab.kernel.accessAllowed ? 'block' : 'none';\n",
              "    })();\n",
              "  </script>\n",
              "</div>\n",
              "    </div>\n",
              "  </div>\n"
            ]
          },
          "metadata": {},
          "execution_count": 9
        }
      ]
    },
    {
      "cell_type": "code",
      "source": [
        "if not df.empty and not SAVED_DATAFRAME.is_file():\n",
        "  df.to_feather(\"data.feather\")"
      ],
      "metadata": {
        "id": "EvLeeuiqsq0C"
      },
      "execution_count": 10,
      "outputs": []
    },
    {
      "cell_type": "code",
      "source": [
        "for x in df['class'].unique():\n",
        "  count = df['class'][df['class'] == x].count()\n",
        "  prop = count / df.shape[0]\n",
        "  print(f\"class: {x}, rows: {count:7}, {class_list[x]:7}, prop: {prop:.4}\" )"
      ],
      "metadata": {
        "colab": {
          "base_uri": "https://localhost:8080/"
        },
        "id": "eIZstTCGPEU3",
        "outputId": "8ae67bda-a25d-4e19-e156-c8826374d422"
      },
      "execution_count": 11,
      "outputs": [
        {
          "output_type": "stream",
          "name": "stdout",
          "text": [
            "class: 0, rows:     165, stairs , prop: 0.02553\n",
            "class: 1, rows:    1039, idle   , prop: 0.1608\n",
            "class: 2, rows:    1850, walking, prop: 0.2863\n",
            "class: 3, rows:    3408, running, prop: 0.5274\n"
          ]
        }
      ]
    },
    {
      "cell_type": "code",
      "source": [
        "X = df.iloc[:,:-1]\n",
        "y = df.iloc[:,-1]\n",
        "# X = np.array(df.iloc[:,:-1])\n",
        "# y = np.array(df.iloc[:,-1])"
      ],
      "metadata": {
        "id": "KOtSXBQUZmRO"
      },
      "execution_count": 12,
      "outputs": []
    },
    {
      "cell_type": "code",
      "source": [
        "X.shape"
      ],
      "metadata": {
        "colab": {
          "base_uri": "https://localhost:8080/"
        },
        "id": "9e_F6-LpmMwh",
        "outputId": "44fd1272-cc10-4937-89e0-0ead5f8b24cc"
      },
      "execution_count": 13,
      "outputs": [
        {
          "output_type": "execute_result",
          "data": {
            "text/plain": [
              "(6462, 93)"
            ]
          },
          "metadata": {},
          "execution_count": 13
        }
      ]
    },
    {
      "cell_type": "code",
      "source": [
        "# X.corr()"
      ],
      "metadata": {
        "id": "CcldC_0S_XJk"
      },
      "execution_count": 14,
      "outputs": []
    },
    {
      "cell_type": "markdown",
      "source": [
        "### X SCALER"
      ],
      "metadata": {
        "id": "3ny0ydUHPYHC"
      }
    },
    {
      "cell_type": "code",
      "source": [
        "from sklearn.preprocessing import StandardScaler\n",
        "\n",
        "scaler = StandardScaler()\n",
        "X_scaled = scaler.fit_transform(X)\n"
      ],
      "metadata": {
        "id": "UK5G5jlCYcM3"
      },
      "execution_count": 15,
      "outputs": []
    },
    {
      "cell_type": "markdown",
      "source": [
        "### train_test_split X_scaled"
      ],
      "metadata": {
        "id": "Gfio9V6tBcN8"
      }
    },
    {
      "cell_type": "code",
      "source": [
        "from sklearn.model_selection import train_test_split\n",
        "from sklearn.pipeline import Pipeline\n",
        "from sklearn.compose import ColumnTransformer\n",
        "from sklearn.impute import SimpleImputer\n",
        "from sklearn.svm import SVC\n",
        "from sklearn.model_selection import GridSearchCV\n",
        "from sklearn.metrics import classification_report, confusion_matrix\n",
        "from sklearn.pipeline import make_pipeline\n",
        "from sklearn.model_selection import cross_val_score\n",
        "from sklearn.metrics import f1_score, accuracy_score\n",
        "\n",
        "SEED = 42\n",
        "\n",
        "X_train, X_test, y_train, y_test = train_test_split(X_scaled, y, test_size=0.3, random_state=SEED, stratify=y)"
      ],
      "metadata": {
        "id": "jfJkQ0vVN1L0"
      },
      "execution_count": 16,
      "outputs": []
    },
    {
      "cell_type": "markdown",
      "source": [
        "## SVC"
      ],
      "metadata": {
        "id": "-LMsv_wtBaPu"
      }
    },
    {
      "cell_type": "code",
      "source": [
        "clf = SVC(probability=True)\n",
        "clf.fit(X_train, y_train)\n",
        "print(f\"{clf.classes_=}\")\n",
        "print(f\"{clf.score(X_test, y_test)=}\")"
      ],
      "metadata": {
        "colab": {
          "base_uri": "https://localhost:8080/"
        },
        "id": "JA6eBf7Flig5",
        "outputId": "851e1459-196f-4861-a89b-e6eee3e8e645"
      },
      "execution_count": 17,
      "outputs": [
        {
          "output_type": "stream",
          "name": "stdout",
          "text": [
            "clf.classes_=array([0, 1, 2, 3])\n",
            "clf.score(X_test, y_test)=0.9824651882413615\n"
          ]
        }
      ]
    },
    {
      "cell_type": "markdown",
      "source": [
        "### Cross Validation"
      ],
      "metadata": {
        "id": "AlZTdc76N30p"
      }
    },
    {
      "cell_type": "code",
      "source": [
        "scores = cross_val_score(clf, X_train, y_train, cv=10)\n",
        "scores.mean()"
      ],
      "metadata": {
        "colab": {
          "base_uri": "https://localhost:8080/"
        },
        "id": "NCIOBiwtNchE",
        "outputId": "6c68d611-7182-4372-f301-eef743705fc7"
      },
      "execution_count": 18,
      "outputs": [
        {
          "output_type": "execute_result",
          "data": {
            "text/plain": [
              "0.9827550841000996"
            ]
          },
          "metadata": {},
          "execution_count": 18
        }
      ]
    },
    {
      "cell_type": "markdown",
      "source": [
        "### Count classes"
      ],
      "metadata": {
        "id": "PC4CSx8zN79m"
      }
    },
    {
      "cell_type": "code",
      "source": [
        "y_test_pred = clf.decision_function(X_test)\n",
        "y_test_pred.round(2)"
      ],
      "metadata": {
        "colab": {
          "base_uri": "https://localhost:8080/"
        },
        "id": "puGNl5fkUhxr",
        "outputId": "c753ff05-cd27-48c0-ed11-976dd893ec81"
      },
      "execution_count": 19,
      "outputs": [
        {
          "output_type": "execute_result",
          "data": {
            "text/plain": [
              "array([[ 2.19, -0.27,  3.27,  0.8 ],\n",
              "       [ 0.74, -0.22,  2.22,  3.26],\n",
              "       [ 0.74, -0.24,  2.21,  3.27],\n",
              "       ...,\n",
              "       [ 0.75, -0.26,  2.23,  3.27],\n",
              "       [ 0.74, -0.26,  2.23,  3.27],\n",
              "       [ 0.74, -0.24,  2.2 ,  3.27]])"
            ]
          },
          "metadata": {},
          "execution_count": 19
        }
      ]
    },
    {
      "cell_type": "code",
      "source": [
        "y_test_pred = clf.predict_proba(X_test)\n",
        "y_test_pred.round(2)"
      ],
      "metadata": {
        "colab": {
          "base_uri": "https://localhost:8080/"
        },
        "id": "M-__cHfRVaii",
        "outputId": "8ba682fb-637f-478b-b09f-d9900d2a87c4"
      },
      "execution_count": 20,
      "outputs": [
        {
          "output_type": "execute_result",
          "data": {
            "text/plain": [
              "array([[0.09, 0.  , 0.91, 0.  ],\n",
              "       [0.  , 0.  , 0.  , 1.  ],\n",
              "       [0.  , 0.  , 0.  , 1.  ],\n",
              "       ...,\n",
              "       [0.  , 0.  , 0.  , 1.  ],\n",
              "       [0.  , 0.  , 0.  , 1.  ],\n",
              "       [0.  , 0.  , 0.  , 1.  ]])"
            ]
          },
          "metadata": {},
          "execution_count": 20
        }
      ]
    },
    {
      "cell_type": "code",
      "source": [
        "y_test_pred = np.argmax(y_test_pred, axis=1)\n",
        "y_test_pred"
      ],
      "metadata": {
        "colab": {
          "base_uri": "https://localhost:8080/"
        },
        "id": "zwP-jNoFWfmJ",
        "outputId": "d590422f-3cc9-4206-a1db-95c3abbe4066"
      },
      "execution_count": 21,
      "outputs": [
        {
          "output_type": "execute_result",
          "data": {
            "text/plain": [
              "array([2, 3, 3, ..., 3, 3, 3])"
            ]
          },
          "metadata": {},
          "execution_count": 21
        }
      ]
    },
    {
      "cell_type": "code",
      "source": [
        "y_test = clf.predict(X_test)"
      ],
      "metadata": {
        "id": "F2hZUo_FbAbZ"
      },
      "execution_count": 22,
      "outputs": []
    },
    {
      "cell_type": "code",
      "source": [
        "print(f\"{y_test.shape=}\")\n",
        "y_pred_result = {}\n",
        "for i in y_test_pred:\n",
        "  y_pred_result[class_list[i]] = y_pred_result.get(class_list[i],0) + 1\n",
        "print(f\"{y_pred_result=}\")\n",
        "\n",
        "y_test_result = {}\n",
        "for i in y_test:\n",
        "  y_test_result[class_list[i]] = y_test_result.get(class_list[i],0) + 1\n",
        "print(f\"{y_test_result=}\")"
      ],
      "metadata": {
        "colab": {
          "base_uri": "https://localhost:8080/"
        },
        "id": "KflFyCDRZxDq",
        "outputId": "0df7d4f8-d925-4af9-8f29-91f513167b90"
      },
      "execution_count": 23,
      "outputs": [
        {
          "output_type": "stream",
          "name": "stdout",
          "text": [
            "y_test.shape=(1939,)\n",
            "y_pred_result={'walking': 571, 'running': 1023, 'idle': 312, 'stairs': 33}\n",
            "y_test_result={'walking': 583, 'running': 1023, 'idle': 312, 'stairs': 21}\n"
          ]
        }
      ]
    },
    {
      "cell_type": "markdown",
      "source": [
        "### PIPELINE SVC"
      ],
      "metadata": {
        "id": "A5btf_7TWbMN"
      }
    },
    {
      "cell_type": "code",
      "source": [
        "X_train, X_test, y_train, y_test = train_test_split(X, y, test_size=0.3, random_state=SEED, stratify=y)"
      ],
      "metadata": {
        "id": "rYdxEaraMBEr"
      },
      "execution_count": 24,
      "outputs": []
    },
    {
      "cell_type": "code",
      "source": [
        "clf = make_pipeline(StandardScaler(), SVC(decision_function_shape='ovo'))\n",
        "clf.fit(X, y)\n",
        "print(f\"{clf.classes_=}\")\n",
        "print(f\"{clf.score(X_test, y_test)=}\")"
      ],
      "metadata": {
        "colab": {
          "base_uri": "https://localhost:8080/"
        },
        "id": "GcUyuBy9iNYl",
        "outputId": "759b82e9-3d1f-4e39-ef81-94245d42c77d"
      },
      "execution_count": 25,
      "outputs": [
        {
          "output_type": "stream",
          "name": "stdout",
          "text": [
            "clf.classes_=array([0, 1, 2, 3])\n",
            "clf.score(X_test, y_test)=0.9876224858174316\n"
          ]
        }
      ]
    },
    {
      "cell_type": "code",
      "source": [
        "clf = make_pipeline(StandardScaler(), SVC(decision_function_shape='ovr', kernel='linear'))\n",
        "clf.fit(X, y)\n",
        "print(f\"{clf.classes_=}\")\n",
        "print(f\"{clf.score(X_test, y_test)=}\")"
      ],
      "metadata": {
        "colab": {
          "base_uri": "https://localhost:8080/"
        },
        "id": "JUnRBGmhzxvc",
        "outputId": "e323a494-cc80-43d3-bd6d-cf8f5229c663"
      },
      "execution_count": 26,
      "outputs": [
        {
          "output_type": "stream",
          "name": "stdout",
          "text": [
            "clf.classes_=array([0, 1, 2, 3])\n",
            "clf.score(X_test, y_test)=0.9819494584837545\n"
          ]
        }
      ]
    },
    {
      "cell_type": "code",
      "source": [
        "clf = make_pipeline(StandardScaler(), SVC(decision_function_shape='ovr', kernel='poly', degree=4))\n",
        "clf.fit(X, y)\n",
        "print(f\"{clf.classes_=}\")\n",
        "print(f\"{clf.score(X_test, y_test)=}\")"
      ],
      "metadata": {
        "colab": {
          "base_uri": "https://localhost:8080/"
        },
        "id": "Z4iHvaPM-o_l",
        "outputId": "b2af6164-75a7-48d9-909d-11f7f673b1b4"
      },
      "execution_count": 27,
      "outputs": [
        {
          "output_type": "stream",
          "name": "stdout",
          "text": [
            "clf.classes_=array([0, 1, 2, 3])\n",
            "clf.score(X_test, y_test)=0.9742135121196493\n"
          ]
        }
      ]
    },
    {
      "cell_type": "code",
      "source": [
        "numeric_features = X.columns\n",
        "len(numeric_features)\n"
      ],
      "metadata": {
        "colab": {
          "base_uri": "https://localhost:8080/"
        },
        "id": "8BT33JSoeGwp",
        "outputId": "fb746365-bc5f-4659-f149-37bec6298556"
      },
      "execution_count": 28,
      "outputs": [
        {
          "output_type": "execute_result",
          "data": {
            "text/plain": [
              "93"
            ]
          },
          "metadata": {},
          "execution_count": 28
        }
      ]
    },
    {
      "cell_type": "markdown",
      "source": [
        "## RandomForestClassifier"
      ],
      "metadata": {
        "id": "3hvxcoJDBXU9"
      }
    },
    {
      "cell_type": "code",
      "source": [
        "from sklearn.ensemble import RandomForestClassifier\n",
        "\n",
        "clf = make_pipeline(StandardScaler(), RandomForestClassifier())\n",
        "clf.fit(X, y)\n",
        "print(f\"{clf.classes_=}\")\n",
        "print(f\"{clf.score(X_test, y_test)=}\")"
      ],
      "metadata": {
        "colab": {
          "base_uri": "https://localhost:8080/"
        },
        "id": "KIxCdGgSA1Yt",
        "outputId": "0cd776bf-c9d7-483e-cb80-50099b120678"
      },
      "execution_count": 29,
      "outputs": [
        {
          "output_type": "stream",
          "name": "stdout",
          "text": [
            "clf.classes_=array([0, 1, 2, 3])\n",
            "clf.score(X_test, y_test)=1.0\n"
          ]
        }
      ]
    },
    {
      "cell_type": "markdown",
      "source": [
        "### Cross Validation"
      ],
      "metadata": {
        "id": "HRqvffNUP8uQ"
      }
    },
    {
      "cell_type": "code",
      "source": [
        "scores = cross_val_score(clf, X_train, y_train, cv=10)\n",
        "scores.mean()"
      ],
      "metadata": {
        "colab": {
          "base_uri": "https://localhost:8080/"
        },
        "outputId": "e453a5d3-9e65-4595-d544-034f1ea29cb6",
        "id": "UHIbyVvJP8uQ"
      },
      "execution_count": 30,
      "outputs": [
        {
          "output_type": "execute_result",
          "data": {
            "text/plain": [
              "0.9765643009240266"
            ]
          },
          "metadata": {},
          "execution_count": 30
        }
      ]
    },
    {
      "cell_type": "markdown",
      "source": [
        "## PIPE TEST"
      ],
      "metadata": {
        "id": "42vviEBNOhe9"
      }
    },
    {
      "cell_type": "code",
      "source": [
        "preprocessor = ColumnTransformer(\n",
        "    transformers=[\n",
        "        ('scaler', StandardScaler(), numeric_features)\n",
        "    ])"
      ],
      "metadata": {
        "id": "uLYLoJvreWbS"
      },
      "execution_count": 31,
      "outputs": []
    },
    {
      "cell_type": "code",
      "source": [
        "models = {\n",
        "    'SVC': {\n",
        "        'model': SVC(),\n",
        "        'params': {}\n",
        "    },\n",
        "    'RandomForestClassifier': {\n",
        "        'model': RandomForestClassifier(),\n",
        "        'params': {}\n",
        "    }\n",
        "}\n",
        "\n",
        "results = {}"
      ],
      "metadata": {
        "id": "-Oul7WQSez5D"
      },
      "execution_count": 32,
      "outputs": []
    },
    {
      "cell_type": "code",
      "source": [
        "# for name, model_info in models.items():\n",
        "#     pipeline = Pipeline([\n",
        "#         ('preprocessor', preprocessor),\n",
        "#         ('classifier', model_info['model'])\n",
        "#     ])\n",
        "\n",
        "#     grid_search = GridSearchCV(pipeline,\n",
        "#                                model_info['params'],\n",
        "#                                cv=5,\n",
        "#                                scoring='recall',\n",
        "#                                )\n",
        "\n",
        "#     grid_search.fit(X_train, y_train)\n",
        "\n",
        "# y_pred = grid_search.predict(X_test)\n",
        "\n",
        "# classification_rep = classification_report(y_test, y_pred)\n",
        "# confusion_mat = confusion_matrix(y_test, y_pred)\n",
        "\n",
        "# results[name] = {\n",
        "#     'model': grid_search,\n",
        "#     'classification_report': classification_rep,\n",
        "#     'confusion_matrix': confusion_mat\n",
        "# }"
      ],
      "metadata": {
        "id": "ylCJ9PL-gWch"
      },
      "execution_count": 33,
      "outputs": []
    }
  ]
}