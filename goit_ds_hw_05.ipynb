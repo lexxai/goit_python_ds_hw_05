{
  "nbformat": 4,
  "nbformat_minor": 0,
  "metadata": {
    "colab": {
      "provenance": [],
      "collapsed_sections": [
        "AW7Ag9r3BfSV",
        "FmsQbzSxPLOt",
        "Gfio9V6tBcN8",
        "PC4CSx8zN79m",
        "A5btf_7TWbMN",
        "42vviEBNOhe9"
      ],
      "toc_visible": true,
      "gpuType": "T4",
      "authorship_tag": "ABX9TyPOAyD8NkOciZmodVHW5+Nb",
      "include_colab_link": true
    },
    "kernelspec": {
      "name": "python3",
      "display_name": "Python 3"
    },
    "language_info": {
      "name": "python"
    },
    "accelerator": "GPU"
  },
  "cells": [
    {
      "cell_type": "markdown",
      "metadata": {
        "id": "view-in-github",
        "colab_type": "text"
      },
      "source": [
        "<a href=\"https://colab.research.google.com/github/lexxai/goit_python_ds_hw_05/blob/main/goit_ds_hw_05.ipynb\" target=\"_parent\"><img src=\"https://colab.research.google.com/assets/colab-badge.svg\" alt=\"Open In Colab\"/></a>"
      ]
    },
    {
      "cell_type": "markdown",
      "source": [
        "## LOAD DATASET"
      ],
      "metadata": {
        "id": "AW7Ag9r3BfSV"
      }
    },
    {
      "cell_type": "code",
      "source": [
        "import pandas as pd\n",
        "import numpy as np"
      ],
      "metadata": {
        "id": "1D0oT1i-ROzp"
      },
      "execution_count": 8,
      "outputs": []
    },
    {
      "cell_type": "code",
      "source": [
        "from pathlib import Path\n",
        "\n",
        "SAVED_DATAFRAME = Path(\"/content/data.feather\")\n",
        "URL = \"https://drive.usercontent.google.com/download?id=1nzrtQpfaHL0OgJ_eXzA7VuEj7XotrSWO&export=download&authuser=0\"\n",
        "OUTPUT = Path(\"/content/homework.zip\")\n",
        "CSV_DATA_PATH  = Path(\"/content/data\")"
      ],
      "metadata": {
        "id": "6PnBB155s5Pd"
      },
      "execution_count": 9,
      "outputs": []
    },
    {
      "cell_type": "code",
      "source": [
        "if SAVED_DATAFRAME.is_file():\n",
        "  df = pd.read_feather(SAVED_DATAFRAME)\n",
        "else:\n",
        "  df = pd.DataFrame()"
      ],
      "metadata": {
        "id": "k03po368tWcn"
      },
      "execution_count": 10,
      "outputs": []
    },
    {
      "cell_type": "code",
      "execution_count": 11,
      "metadata": {
        "colab": {
          "base_uri": "https://localhost:8080/"
        },
        "id": "GzZEhfMLIgwU",
        "outputId": "5b5b7fe8-7ed9-4440-d32c-7ea27b27a9f1"
      },
      "outputs": [
        {
          "output_type": "stream",
          "name": "stdout",
          "text": [
            "--2024-01-30 01:41:40--  https://drive.usercontent.google.com/download?id=1nzrtQpfaHL0OgJ_eXzA7VuEj7XotrSWO\n",
            "Resolving drive.usercontent.google.com (drive.usercontent.google.com)... 142.251.31.132, 2a00:1450:4013:c1a::84\n",
            "Connecting to drive.usercontent.google.com (drive.usercontent.google.com)|142.251.31.132|:443... connected.\n",
            "HTTP request sent, awaiting response... 200 OK\n",
            "Length: 4211746 (4.0M) [application/octet-stream]\n",
            "Saving to: ‘/content/homework.zip’\n",
            "\n",
            "/content/homework.z 100%[===================>]   4.02M  --.-KB/s    in 0.02s   \n",
            "\n",
            "2024-01-30 01:42:10 (170 MB/s) - ‘/content/homework.zip’ saved [4211746/4211746]\n",
            "\n"
          ]
        }
      ],
      "source": [
        "if not OUTPUT.is_file() and df.empty:\n",
        "  !wget -O $OUTPUT $URL\n",
        "\n",
        "if OUTPUT.is_file() and df.empty and not CSV_DATA_PATH.is_dir():\n",
        "  !unzip -o $OUTPUT\n",
        "  #!rm $OUTPUT"
      ]
    },
    {
      "cell_type": "code",
      "source": [
        "if df.empty:\n",
        "  class_path = list(CSV_DATA_PATH.iterdir())\n",
        "  class_list = list(d.name for d in class_path)\n",
        "  print(class_list)"
      ],
      "metadata": {
        "colab": {
          "base_uri": "https://localhost:8080/"
        },
        "id": "JlsLFHAeMD-T",
        "outputId": "9935bf25-6ba8-4787-c1d7-72f192c90968"
      },
      "execution_count": 12,
      "outputs": [
        {
          "output_type": "stream",
          "name": "stdout",
          "text": [
            "['stairs', 'idle', 'walking', 'running']\n"
          ]
        }
      ]
    },
    {
      "cell_type": "markdown",
      "source": [
        "## BUILD DataFrame"
      ],
      "metadata": {
        "id": "FmsQbzSxPLOt"
      }
    },
    {
      "cell_type": "code",
      "source": [
        "df = pd.DataFrame()\n",
        "if df.empty:\n",
        "  FLATERN = True\n",
        "  dfws = []\n",
        "  limit_frames = None\n",
        "  for class_id, work_class_path in enumerate(class_path):\n",
        "    list_files = list(sorted(work_class_path.glob('*.csv'), key=lambda path: int(path.stem.rsplit(\"-\", 1)[1])))\n",
        "    print(f\"Importing class '{work_class_path.name:7}' : {class_id}. Frames: {len(list_files)}\")\n",
        "    for i, filename in enumerate(list_files):\n",
        "      # READ FRAME CSV FILE\n",
        "      df_w: pd.DataFrame = pd.read_csv(filename)\n",
        "      if FLATERN:\n",
        "        columns=[f\"{col}_{i}\" for i in range(df_w.shape[0]) for col in df_w.columns]\n",
        "        df_w = pd.DataFrame(df_w.values.reshape(1, -1), columns=columns)\n",
        "      # print(df_w.shape)\n",
        "      df_w['class'] = class_id\n",
        "      dfws.append(df_w)\n",
        "      if limit_frames and (i > limit_frames):\n",
        "        break\n",
        "  df = pd.concat(dfws, axis=0, ignore_index=True)\n",
        "# print(df.info())\n",
        "print(df.shape)"
      ],
      "metadata": {
        "colab": {
          "base_uri": "https://localhost:8080/"
        },
        "id": "OvnbGTwgNt-y",
        "outputId": "13262994-0204-4c42-cec0-0275ef0178f8"
      },
      "execution_count": 62,
      "outputs": [
        {
          "output_type": "stream",
          "name": "stdout",
          "text": [
            "Importing class 'stairs ' : 0. Frames: 165\n",
            "Importing class 'idle   ' : 1. Frames: 1039\n",
            "Importing class 'walking' : 2. Frames: 1850\n",
            "Importing class 'running' : 3. Frames: 3408\n",
            "(6462, 91)\n"
          ]
        }
      ]
    },
    {
      "cell_type": "code",
      "source": [
        "if not df.empty and not SAVED_DATAFRAME.is_file():\n",
        "  df.to_feather(\"data.feather\")"
      ],
      "metadata": {
        "id": "EvLeeuiqsq0C"
      },
      "execution_count": 64,
      "outputs": []
    },
    {
      "cell_type": "code",
      "source": [
        "for x in df['class'].unique():\n",
        "  count = df['class'][df['class'] == x].count()\n",
        "  prop = count / df.shape[0]\n",
        "  print(f\"class: {x}, rows: {count:7}, {class_list[x]:7}, prop: {prop:.4}\" )"
      ],
      "metadata": {
        "colab": {
          "base_uri": "https://localhost:8080/"
        },
        "id": "eIZstTCGPEU3",
        "outputId": "da11c5b8-f845-47ee-cf81-3126feea54da"
      },
      "execution_count": 30,
      "outputs": [
        {
          "output_type": "stream",
          "name": "stdout",
          "text": [
            "class: 0, rows:     165, stairs , prop: 0.02553\n",
            "class: 1, rows:    1039, idle   , prop: 0.1608\n",
            "class: 2, rows:    1850, walking, prop: 0.2863\n",
            "class: 3, rows:    3408, running, prop: 0.5274\n"
          ]
        }
      ]
    },
    {
      "cell_type": "code",
      "source": [
        "X = df.iloc[:,:-1]\n",
        "y = df.iloc[:,-1]\n",
        "# X = np.array(df.iloc[:,:-1])\n",
        "# y = np.array(df.iloc[:,-1])"
      ],
      "metadata": {
        "id": "KOtSXBQUZmRO"
      },
      "execution_count": 65,
      "outputs": []
    },
    {
      "cell_type": "code",
      "source": [
        "X.shape"
      ],
      "metadata": {
        "colab": {
          "base_uri": "https://localhost:8080/"
        },
        "id": "9e_F6-LpmMwh",
        "outputId": "bb5bd898-9b70-4a96-e903-a37f805d8dab"
      },
      "execution_count": 66,
      "outputs": [
        {
          "output_type": "execute_result",
          "data": {
            "text/plain": [
              "(6462, 90)"
            ]
          },
          "metadata": {},
          "execution_count": 66
        }
      ]
    },
    {
      "cell_type": "code",
      "source": [
        "X.corr()"
      ],
      "metadata": {
        "colab": {
          "base_uri": "https://localhost:8080/",
          "height": 444
        },
        "id": "CcldC_0S_XJk",
        "outputId": "03e681c8-75a7-4a1e-e101-dcf50fd53fbc"
      },
      "execution_count": 33,
      "outputs": [
        {
          "output_type": "execute_result",
          "data": {
            "text/plain": [
              "                    accelerometer_X-0  accelerometer_Y-0  accelerometer_Z-0  \\\n",
              "accelerometer_X-0            1.000000           0.457677           0.242791   \n",
              "accelerometer_Y-0            0.457677           1.000000           0.351941   \n",
              "accelerometer_Z-0            0.242791           0.351941           1.000000   \n",
              "accelerometer_X-1            0.192441           0.219447           0.018717   \n",
              "accelerometer_Y-1            0.274816           0.311022           0.099737   \n",
              "...                               ...                ...                ...   \n",
              "accelerometer_Y-28           0.206101           0.461959           0.125925   \n",
              "accelerometer_Z-28           0.032388           0.128957           0.239454   \n",
              "accelerometer_X-29           0.251506           0.246166           0.034057   \n",
              "accelerometer_Y-29           0.232686           0.402176           0.113651   \n",
              "accelerometer_Z-29           0.042892           0.092887           0.240364   \n",
              "\n",
              "                    accelerometer_X-1  accelerometer_Y-1  accelerometer_Z-1  \\\n",
              "accelerometer_X-0            0.192441           0.274816           0.032539   \n",
              "accelerometer_Y-0            0.219447           0.311022          -0.008442   \n",
              "accelerometer_Z-0            0.018717           0.099737           0.211859   \n",
              "accelerometer_X-1            1.000000           0.488340           0.221419   \n",
              "accelerometer_Y-1            0.488340           1.000000           0.366920   \n",
              "...                               ...                ...                ...   \n",
              "accelerometer_Y-28           0.252501           0.374574           0.073492   \n",
              "accelerometer_Z-28           0.034160           0.100860           0.211800   \n",
              "accelerometer_X-29           0.318547           0.229278           0.041120   \n",
              "accelerometer_Y-29           0.239838           0.462157           0.116514   \n",
              "accelerometer_Z-29           0.021538           0.123014           0.233362   \n",
              "\n",
              "                    accelerometer_X-2  accelerometer_Y-2  accelerometer_Z-2  \\\n",
              "accelerometer_X-0            0.183877           0.124224          -0.033196   \n",
              "accelerometer_Y-0            0.152303           0.235854           0.036917   \n",
              "accelerometer_Z-0            0.000257          -0.021588           0.169994   \n",
              "accelerometer_X-1            0.207436           0.281361           0.012837   \n",
              "accelerometer_Y-1            0.213311           0.304721          -0.006621   \n",
              "...                               ...                ...                ...   \n",
              "accelerometer_Y-28           0.216758           0.390590           0.089277   \n",
              "accelerometer_Z-28           0.024072           0.080921           0.209746   \n",
              "accelerometer_X-29           0.257056           0.268013           0.056227   \n",
              "accelerometer_Y-29           0.260503           0.369868           0.065159   \n",
              "accelerometer_Z-29           0.044673           0.095248           0.223910   \n",
              "\n",
              "                    accelerometer_X-3  ...  accelerometer_Z-26  \\\n",
              "accelerometer_X-0            0.351737  ...            0.023957   \n",
              "accelerometer_Y-0            0.224773  ...            0.082117   \n",
              "accelerometer_Z-0            0.009425  ...            0.210462   \n",
              "accelerometer_X-1            0.172863  ...            0.023541   \n",
              "accelerometer_Y-1            0.140636  ...            0.127482   \n",
              "...                               ...  ...                 ...   \n",
              "accelerometer_Y-28           0.216342  ...           -0.023110   \n",
              "accelerometer_Z-28           0.023489  ...            0.170098   \n",
              "accelerometer_X-29           0.249682  ...            0.006600   \n",
              "accelerometer_Y-29           0.208025  ...            0.143190   \n",
              "accelerometer_Z-29           0.037093  ...            0.285939   \n",
              "\n",
              "                    accelerometer_X-27  accelerometer_Y-27  \\\n",
              "accelerometer_X-0             0.257134            0.260781   \n",
              "accelerometer_Y-0             0.268748            0.370537   \n",
              "accelerometer_Z-0             0.056745            0.065459   \n",
              "accelerometer_X-1             0.250027            0.208411   \n",
              "accelerometer_Y-1             0.223841            0.375052   \n",
              "...                                ...                 ...   \n",
              "accelerometer_Y-28            0.282622            0.302770   \n",
              "accelerometer_Z-28            0.013592           -0.009216   \n",
              "accelerometer_X-29            0.173627            0.139867   \n",
              "accelerometer_Y-29            0.145333            0.224376   \n",
              "accelerometer_Z-29           -0.046029            0.034025   \n",
              "\n",
              "                    accelerometer_Z-27  accelerometer_X-28  \\\n",
              "accelerometer_X-0             0.045293            0.284134   \n",
              "accelerometer_Y-0             0.096888            0.217671   \n",
              "accelerometer_Z-0             0.225055            0.046406   \n",
              "accelerometer_X-1             0.037976            0.226591   \n",
              "accelerometer_Y-1             0.083230            0.251070   \n",
              "...                                ...                 ...   \n",
              "accelerometer_Y-28            0.105851            0.458094   \n",
              "accelerometer_Z-28            0.230402            0.243346   \n",
              "accelerometer_X-29           -0.016579            0.192832   \n",
              "accelerometer_Y-29           -0.029371            0.275437   \n",
              "accelerometer_Z-29            0.171783            0.032413   \n",
              "\n",
              "                    accelerometer_Y-28  accelerometer_Z-28  \\\n",
              "accelerometer_X-0             0.206101            0.032388   \n",
              "accelerometer_Y-0             0.461959            0.128957   \n",
              "accelerometer_Z-0             0.125925            0.239454   \n",
              "accelerometer_X-1             0.252501            0.034160   \n",
              "accelerometer_Y-1             0.374574            0.100860   \n",
              "...                                ...                 ...   \n",
              "accelerometer_Y-28            1.000000            0.348276   \n",
              "accelerometer_Z-28            0.348276            1.000000   \n",
              "accelerometer_X-29            0.220504            0.019738   \n",
              "accelerometer_Y-29            0.307715            0.097697   \n",
              "accelerometer_Z-29           -0.010031            0.214539   \n",
              "\n",
              "                    accelerometer_X-29  accelerometer_Y-29  accelerometer_Z-29  \n",
              "accelerometer_X-0             0.251506            0.232686            0.042892  \n",
              "accelerometer_Y-0             0.246166            0.402176            0.092887  \n",
              "accelerometer_Z-0             0.034057            0.113651            0.240364  \n",
              "accelerometer_X-1             0.318547            0.239838            0.021538  \n",
              "accelerometer_Y-1             0.229278            0.462157            0.123014  \n",
              "...                                ...                 ...                 ...  \n",
              "accelerometer_Y-28            0.220504            0.307715           -0.010031  \n",
              "accelerometer_Z-28            0.019738            0.097697            0.214539  \n",
              "accelerometer_X-29            1.000000            0.489913            0.221555  \n",
              "accelerometer_Y-29            0.489913            1.000000            0.366574  \n",
              "accelerometer_Z-29            0.221555            0.366574            1.000000  \n",
              "\n",
              "[90 rows x 90 columns]"
            ],
            "text/html": [
              "\n",
              "  <div id=\"df-9517b09b-b5d5-408c-8b80-6466ea692682\" class=\"colab-df-container\">\n",
              "    <div>\n",
              "<style scoped>\n",
              "    .dataframe tbody tr th:only-of-type {\n",
              "        vertical-align: middle;\n",
              "    }\n",
              "\n",
              "    .dataframe tbody tr th {\n",
              "        vertical-align: top;\n",
              "    }\n",
              "\n",
              "    .dataframe thead th {\n",
              "        text-align: right;\n",
              "    }\n",
              "</style>\n",
              "<table border=\"1\" class=\"dataframe\">\n",
              "  <thead>\n",
              "    <tr style=\"text-align: right;\">\n",
              "      <th></th>\n",
              "      <th>accelerometer_X-0</th>\n",
              "      <th>accelerometer_Y-0</th>\n",
              "      <th>accelerometer_Z-0</th>\n",
              "      <th>accelerometer_X-1</th>\n",
              "      <th>accelerometer_Y-1</th>\n",
              "      <th>accelerometer_Z-1</th>\n",
              "      <th>accelerometer_X-2</th>\n",
              "      <th>accelerometer_Y-2</th>\n",
              "      <th>accelerometer_Z-2</th>\n",
              "      <th>accelerometer_X-3</th>\n",
              "      <th>...</th>\n",
              "      <th>accelerometer_Z-26</th>\n",
              "      <th>accelerometer_X-27</th>\n",
              "      <th>accelerometer_Y-27</th>\n",
              "      <th>accelerometer_Z-27</th>\n",
              "      <th>accelerometer_X-28</th>\n",
              "      <th>accelerometer_Y-28</th>\n",
              "      <th>accelerometer_Z-28</th>\n",
              "      <th>accelerometer_X-29</th>\n",
              "      <th>accelerometer_Y-29</th>\n",
              "      <th>accelerometer_Z-29</th>\n",
              "    </tr>\n",
              "  </thead>\n",
              "  <tbody>\n",
              "    <tr>\n",
              "      <th>accelerometer_X-0</th>\n",
              "      <td>1.000000</td>\n",
              "      <td>0.457677</td>\n",
              "      <td>0.242791</td>\n",
              "      <td>0.192441</td>\n",
              "      <td>0.274816</td>\n",
              "      <td>0.032539</td>\n",
              "      <td>0.183877</td>\n",
              "      <td>0.124224</td>\n",
              "      <td>-0.033196</td>\n",
              "      <td>0.351737</td>\n",
              "      <td>...</td>\n",
              "      <td>0.023957</td>\n",
              "      <td>0.257134</td>\n",
              "      <td>0.260781</td>\n",
              "      <td>0.045293</td>\n",
              "      <td>0.284134</td>\n",
              "      <td>0.206101</td>\n",
              "      <td>0.032388</td>\n",
              "      <td>0.251506</td>\n",
              "      <td>0.232686</td>\n",
              "      <td>0.042892</td>\n",
              "    </tr>\n",
              "    <tr>\n",
              "      <th>accelerometer_Y-0</th>\n",
              "      <td>0.457677</td>\n",
              "      <td>1.000000</td>\n",
              "      <td>0.351941</td>\n",
              "      <td>0.219447</td>\n",
              "      <td>0.311022</td>\n",
              "      <td>-0.008442</td>\n",
              "      <td>0.152303</td>\n",
              "      <td>0.235854</td>\n",
              "      <td>0.036917</td>\n",
              "      <td>0.224773</td>\n",
              "      <td>...</td>\n",
              "      <td>0.082117</td>\n",
              "      <td>0.268748</td>\n",
              "      <td>0.370537</td>\n",
              "      <td>0.096888</td>\n",
              "      <td>0.217671</td>\n",
              "      <td>0.461959</td>\n",
              "      <td>0.128957</td>\n",
              "      <td>0.246166</td>\n",
              "      <td>0.402176</td>\n",
              "      <td>0.092887</td>\n",
              "    </tr>\n",
              "    <tr>\n",
              "      <th>accelerometer_Z-0</th>\n",
              "      <td>0.242791</td>\n",
              "      <td>0.351941</td>\n",
              "      <td>1.000000</td>\n",
              "      <td>0.018717</td>\n",
              "      <td>0.099737</td>\n",
              "      <td>0.211859</td>\n",
              "      <td>0.000257</td>\n",
              "      <td>-0.021588</td>\n",
              "      <td>0.169994</td>\n",
              "      <td>0.009425</td>\n",
              "      <td>...</td>\n",
              "      <td>0.210462</td>\n",
              "      <td>0.056745</td>\n",
              "      <td>0.065459</td>\n",
              "      <td>0.225055</td>\n",
              "      <td>0.046406</td>\n",
              "      <td>0.125925</td>\n",
              "      <td>0.239454</td>\n",
              "      <td>0.034057</td>\n",
              "      <td>0.113651</td>\n",
              "      <td>0.240364</td>\n",
              "    </tr>\n",
              "    <tr>\n",
              "      <th>accelerometer_X-1</th>\n",
              "      <td>0.192441</td>\n",
              "      <td>0.219447</td>\n",
              "      <td>0.018717</td>\n",
              "      <td>1.000000</td>\n",
              "      <td>0.488340</td>\n",
              "      <td>0.221419</td>\n",
              "      <td>0.207436</td>\n",
              "      <td>0.281361</td>\n",
              "      <td>0.012837</td>\n",
              "      <td>0.172863</td>\n",
              "      <td>...</td>\n",
              "      <td>0.023541</td>\n",
              "      <td>0.250027</td>\n",
              "      <td>0.208411</td>\n",
              "      <td>0.037976</td>\n",
              "      <td>0.226591</td>\n",
              "      <td>0.252501</td>\n",
              "      <td>0.034160</td>\n",
              "      <td>0.318547</td>\n",
              "      <td>0.239838</td>\n",
              "      <td>0.021538</td>\n",
              "    </tr>\n",
              "    <tr>\n",
              "      <th>accelerometer_Y-1</th>\n",
              "      <td>0.274816</td>\n",
              "      <td>0.311022</td>\n",
              "      <td>0.099737</td>\n",
              "      <td>0.488340</td>\n",
              "      <td>1.000000</td>\n",
              "      <td>0.366920</td>\n",
              "      <td>0.213311</td>\n",
              "      <td>0.304721</td>\n",
              "      <td>-0.006621</td>\n",
              "      <td>0.140636</td>\n",
              "      <td>...</td>\n",
              "      <td>0.127482</td>\n",
              "      <td>0.223841</td>\n",
              "      <td>0.375052</td>\n",
              "      <td>0.083230</td>\n",
              "      <td>0.251070</td>\n",
              "      <td>0.374574</td>\n",
              "      <td>0.100860</td>\n",
              "      <td>0.229278</td>\n",
              "      <td>0.462157</td>\n",
              "      <td>0.123014</td>\n",
              "    </tr>\n",
              "    <tr>\n",
              "      <th>...</th>\n",
              "      <td>...</td>\n",
              "      <td>...</td>\n",
              "      <td>...</td>\n",
              "      <td>...</td>\n",
              "      <td>...</td>\n",
              "      <td>...</td>\n",
              "      <td>...</td>\n",
              "      <td>...</td>\n",
              "      <td>...</td>\n",
              "      <td>...</td>\n",
              "      <td>...</td>\n",
              "      <td>...</td>\n",
              "      <td>...</td>\n",
              "      <td>...</td>\n",
              "      <td>...</td>\n",
              "      <td>...</td>\n",
              "      <td>...</td>\n",
              "      <td>...</td>\n",
              "      <td>...</td>\n",
              "      <td>...</td>\n",
              "      <td>...</td>\n",
              "    </tr>\n",
              "    <tr>\n",
              "      <th>accelerometer_Y-28</th>\n",
              "      <td>0.206101</td>\n",
              "      <td>0.461959</td>\n",
              "      <td>0.125925</td>\n",
              "      <td>0.252501</td>\n",
              "      <td>0.374574</td>\n",
              "      <td>0.073492</td>\n",
              "      <td>0.216758</td>\n",
              "      <td>0.390590</td>\n",
              "      <td>0.089277</td>\n",
              "      <td>0.216342</td>\n",
              "      <td>...</td>\n",
              "      <td>-0.023110</td>\n",
              "      <td>0.282622</td>\n",
              "      <td>0.302770</td>\n",
              "      <td>0.105851</td>\n",
              "      <td>0.458094</td>\n",
              "      <td>1.000000</td>\n",
              "      <td>0.348276</td>\n",
              "      <td>0.220504</td>\n",
              "      <td>0.307715</td>\n",
              "      <td>-0.010031</td>\n",
              "    </tr>\n",
              "    <tr>\n",
              "      <th>accelerometer_Z-28</th>\n",
              "      <td>0.032388</td>\n",
              "      <td>0.128957</td>\n",
              "      <td>0.239454</td>\n",
              "      <td>0.034160</td>\n",
              "      <td>0.100860</td>\n",
              "      <td>0.211800</td>\n",
              "      <td>0.024072</td>\n",
              "      <td>0.080921</td>\n",
              "      <td>0.209746</td>\n",
              "      <td>0.023489</td>\n",
              "      <td>...</td>\n",
              "      <td>0.170098</td>\n",
              "      <td>0.013592</td>\n",
              "      <td>-0.009216</td>\n",
              "      <td>0.230402</td>\n",
              "      <td>0.243346</td>\n",
              "      <td>0.348276</td>\n",
              "      <td>1.000000</td>\n",
              "      <td>0.019738</td>\n",
              "      <td>0.097697</td>\n",
              "      <td>0.214539</td>\n",
              "    </tr>\n",
              "    <tr>\n",
              "      <th>accelerometer_X-29</th>\n",
              "      <td>0.251506</td>\n",
              "      <td>0.246166</td>\n",
              "      <td>0.034057</td>\n",
              "      <td>0.318547</td>\n",
              "      <td>0.229278</td>\n",
              "      <td>0.041120</td>\n",
              "      <td>0.257056</td>\n",
              "      <td>0.268013</td>\n",
              "      <td>0.056227</td>\n",
              "      <td>0.249682</td>\n",
              "      <td>...</td>\n",
              "      <td>0.006600</td>\n",
              "      <td>0.173627</td>\n",
              "      <td>0.139867</td>\n",
              "      <td>-0.016579</td>\n",
              "      <td>0.192832</td>\n",
              "      <td>0.220504</td>\n",
              "      <td>0.019738</td>\n",
              "      <td>1.000000</td>\n",
              "      <td>0.489913</td>\n",
              "      <td>0.221555</td>\n",
              "    </tr>\n",
              "    <tr>\n",
              "      <th>accelerometer_Y-29</th>\n",
              "      <td>0.232686</td>\n",
              "      <td>0.402176</td>\n",
              "      <td>0.113651</td>\n",
              "      <td>0.239838</td>\n",
              "      <td>0.462157</td>\n",
              "      <td>0.116514</td>\n",
              "      <td>0.260503</td>\n",
              "      <td>0.369868</td>\n",
              "      <td>0.065159</td>\n",
              "      <td>0.208025</td>\n",
              "      <td>...</td>\n",
              "      <td>0.143190</td>\n",
              "      <td>0.145333</td>\n",
              "      <td>0.224376</td>\n",
              "      <td>-0.029371</td>\n",
              "      <td>0.275437</td>\n",
              "      <td>0.307715</td>\n",
              "      <td>0.097697</td>\n",
              "      <td>0.489913</td>\n",
              "      <td>1.000000</td>\n",
              "      <td>0.366574</td>\n",
              "    </tr>\n",
              "    <tr>\n",
              "      <th>accelerometer_Z-29</th>\n",
              "      <td>0.042892</td>\n",
              "      <td>0.092887</td>\n",
              "      <td>0.240364</td>\n",
              "      <td>0.021538</td>\n",
              "      <td>0.123014</td>\n",
              "      <td>0.233362</td>\n",
              "      <td>0.044673</td>\n",
              "      <td>0.095248</td>\n",
              "      <td>0.223910</td>\n",
              "      <td>0.037093</td>\n",
              "      <td>...</td>\n",
              "      <td>0.285939</td>\n",
              "      <td>-0.046029</td>\n",
              "      <td>0.034025</td>\n",
              "      <td>0.171783</td>\n",
              "      <td>0.032413</td>\n",
              "      <td>-0.010031</td>\n",
              "      <td>0.214539</td>\n",
              "      <td>0.221555</td>\n",
              "      <td>0.366574</td>\n",
              "      <td>1.000000</td>\n",
              "    </tr>\n",
              "  </tbody>\n",
              "</table>\n",
              "<p>90 rows × 90 columns</p>\n",
              "</div>\n",
              "    <div class=\"colab-df-buttons\">\n",
              "\n",
              "  <div class=\"colab-df-container\">\n",
              "    <button class=\"colab-df-convert\" onclick=\"convertToInteractive('df-9517b09b-b5d5-408c-8b80-6466ea692682')\"\n",
              "            title=\"Convert this dataframe to an interactive table.\"\n",
              "            style=\"display:none;\">\n",
              "\n",
              "  <svg xmlns=\"http://www.w3.org/2000/svg\" height=\"24px\" viewBox=\"0 -960 960 960\">\n",
              "    <path d=\"M120-120v-720h720v720H120Zm60-500h600v-160H180v160Zm220 220h160v-160H400v160Zm0 220h160v-160H400v160ZM180-400h160v-160H180v160Zm440 0h160v-160H620v160ZM180-180h160v-160H180v160Zm440 0h160v-160H620v160Z\"/>\n",
              "  </svg>\n",
              "    </button>\n",
              "\n",
              "  <style>\n",
              "    .colab-df-container {\n",
              "      display:flex;\n",
              "      gap: 12px;\n",
              "    }\n",
              "\n",
              "    .colab-df-convert {\n",
              "      background-color: #E8F0FE;\n",
              "      border: none;\n",
              "      border-radius: 50%;\n",
              "      cursor: pointer;\n",
              "      display: none;\n",
              "      fill: #1967D2;\n",
              "      height: 32px;\n",
              "      padding: 0 0 0 0;\n",
              "      width: 32px;\n",
              "    }\n",
              "\n",
              "    .colab-df-convert:hover {\n",
              "      background-color: #E2EBFA;\n",
              "      box-shadow: 0px 1px 2px rgba(60, 64, 67, 0.3), 0px 1px 3px 1px rgba(60, 64, 67, 0.15);\n",
              "      fill: #174EA6;\n",
              "    }\n",
              "\n",
              "    .colab-df-buttons div {\n",
              "      margin-bottom: 4px;\n",
              "    }\n",
              "\n",
              "    [theme=dark] .colab-df-convert {\n",
              "      background-color: #3B4455;\n",
              "      fill: #D2E3FC;\n",
              "    }\n",
              "\n",
              "    [theme=dark] .colab-df-convert:hover {\n",
              "      background-color: #434B5C;\n",
              "      box-shadow: 0px 1px 3px 1px rgba(0, 0, 0, 0.15);\n",
              "      filter: drop-shadow(0px 1px 2px rgba(0, 0, 0, 0.3));\n",
              "      fill: #FFFFFF;\n",
              "    }\n",
              "  </style>\n",
              "\n",
              "    <script>\n",
              "      const buttonEl =\n",
              "        document.querySelector('#df-9517b09b-b5d5-408c-8b80-6466ea692682 button.colab-df-convert');\n",
              "      buttonEl.style.display =\n",
              "        google.colab.kernel.accessAllowed ? 'block' : 'none';\n",
              "\n",
              "      async function convertToInteractive(key) {\n",
              "        const element = document.querySelector('#df-9517b09b-b5d5-408c-8b80-6466ea692682');\n",
              "        const dataTable =\n",
              "          await google.colab.kernel.invokeFunction('convertToInteractive',\n",
              "                                                    [key], {});\n",
              "        if (!dataTable) return;\n",
              "\n",
              "        const docLinkHtml = 'Like what you see? Visit the ' +\n",
              "          '<a target=\"_blank\" href=https://colab.research.google.com/notebooks/data_table.ipynb>data table notebook</a>'\n",
              "          + ' to learn more about interactive tables.';\n",
              "        element.innerHTML = '';\n",
              "        dataTable['output_type'] = 'display_data';\n",
              "        await google.colab.output.renderOutput(dataTable, element);\n",
              "        const docLink = document.createElement('div');\n",
              "        docLink.innerHTML = docLinkHtml;\n",
              "        element.appendChild(docLink);\n",
              "      }\n",
              "    </script>\n",
              "  </div>\n",
              "\n",
              "\n",
              "<div id=\"df-32236f66-426b-47bf-84a9-62acd666a140\">\n",
              "  <button class=\"colab-df-quickchart\" onclick=\"quickchart('df-32236f66-426b-47bf-84a9-62acd666a140')\"\n",
              "            title=\"Suggest charts\"\n",
              "            style=\"display:none;\">\n",
              "\n",
              "<svg xmlns=\"http://www.w3.org/2000/svg\" height=\"24px\"viewBox=\"0 0 24 24\"\n",
              "     width=\"24px\">\n",
              "    <g>\n",
              "        <path d=\"M19 3H5c-1.1 0-2 .9-2 2v14c0 1.1.9 2 2 2h14c1.1 0 2-.9 2-2V5c0-1.1-.9-2-2-2zM9 17H7v-7h2v7zm4 0h-2V7h2v10zm4 0h-2v-4h2v4z\"/>\n",
              "    </g>\n",
              "</svg>\n",
              "  </button>\n",
              "\n",
              "<style>\n",
              "  .colab-df-quickchart {\n",
              "      --bg-color: #E8F0FE;\n",
              "      --fill-color: #1967D2;\n",
              "      --hover-bg-color: #E2EBFA;\n",
              "      --hover-fill-color: #174EA6;\n",
              "      --disabled-fill-color: #AAA;\n",
              "      --disabled-bg-color: #DDD;\n",
              "  }\n",
              "\n",
              "  [theme=dark] .colab-df-quickchart {\n",
              "      --bg-color: #3B4455;\n",
              "      --fill-color: #D2E3FC;\n",
              "      --hover-bg-color: #434B5C;\n",
              "      --hover-fill-color: #FFFFFF;\n",
              "      --disabled-bg-color: #3B4455;\n",
              "      --disabled-fill-color: #666;\n",
              "  }\n",
              "\n",
              "  .colab-df-quickchart {\n",
              "    background-color: var(--bg-color);\n",
              "    border: none;\n",
              "    border-radius: 50%;\n",
              "    cursor: pointer;\n",
              "    display: none;\n",
              "    fill: var(--fill-color);\n",
              "    height: 32px;\n",
              "    padding: 0;\n",
              "    width: 32px;\n",
              "  }\n",
              "\n",
              "  .colab-df-quickchart:hover {\n",
              "    background-color: var(--hover-bg-color);\n",
              "    box-shadow: 0 1px 2px rgba(60, 64, 67, 0.3), 0 1px 3px 1px rgba(60, 64, 67, 0.15);\n",
              "    fill: var(--button-hover-fill-color);\n",
              "  }\n",
              "\n",
              "  .colab-df-quickchart-complete:disabled,\n",
              "  .colab-df-quickchart-complete:disabled:hover {\n",
              "    background-color: var(--disabled-bg-color);\n",
              "    fill: var(--disabled-fill-color);\n",
              "    box-shadow: none;\n",
              "  }\n",
              "\n",
              "  .colab-df-spinner {\n",
              "    border: 2px solid var(--fill-color);\n",
              "    border-color: transparent;\n",
              "    border-bottom-color: var(--fill-color);\n",
              "    animation:\n",
              "      spin 1s steps(1) infinite;\n",
              "  }\n",
              "\n",
              "  @keyframes spin {\n",
              "    0% {\n",
              "      border-color: transparent;\n",
              "      border-bottom-color: var(--fill-color);\n",
              "      border-left-color: var(--fill-color);\n",
              "    }\n",
              "    20% {\n",
              "      border-color: transparent;\n",
              "      border-left-color: var(--fill-color);\n",
              "      border-top-color: var(--fill-color);\n",
              "    }\n",
              "    30% {\n",
              "      border-color: transparent;\n",
              "      border-left-color: var(--fill-color);\n",
              "      border-top-color: var(--fill-color);\n",
              "      border-right-color: var(--fill-color);\n",
              "    }\n",
              "    40% {\n",
              "      border-color: transparent;\n",
              "      border-right-color: var(--fill-color);\n",
              "      border-top-color: var(--fill-color);\n",
              "    }\n",
              "    60% {\n",
              "      border-color: transparent;\n",
              "      border-right-color: var(--fill-color);\n",
              "    }\n",
              "    80% {\n",
              "      border-color: transparent;\n",
              "      border-right-color: var(--fill-color);\n",
              "      border-bottom-color: var(--fill-color);\n",
              "    }\n",
              "    90% {\n",
              "      border-color: transparent;\n",
              "      border-bottom-color: var(--fill-color);\n",
              "    }\n",
              "  }\n",
              "</style>\n",
              "\n",
              "  <script>\n",
              "    async function quickchart(key) {\n",
              "      const quickchartButtonEl =\n",
              "        document.querySelector('#' + key + ' button');\n",
              "      quickchartButtonEl.disabled = true;  // To prevent multiple clicks.\n",
              "      quickchartButtonEl.classList.add('colab-df-spinner');\n",
              "      try {\n",
              "        const charts = await google.colab.kernel.invokeFunction(\n",
              "            'suggestCharts', [key], {});\n",
              "      } catch (error) {\n",
              "        console.error('Error during call to suggestCharts:', error);\n",
              "      }\n",
              "      quickchartButtonEl.classList.remove('colab-df-spinner');\n",
              "      quickchartButtonEl.classList.add('colab-df-quickchart-complete');\n",
              "    }\n",
              "    (() => {\n",
              "      let quickchartButtonEl =\n",
              "        document.querySelector('#df-32236f66-426b-47bf-84a9-62acd666a140 button');\n",
              "      quickchartButtonEl.style.display =\n",
              "        google.colab.kernel.accessAllowed ? 'block' : 'none';\n",
              "    })();\n",
              "  </script>\n",
              "</div>\n",
              "    </div>\n",
              "  </div>\n"
            ]
          },
          "metadata": {},
          "execution_count": 33
        }
      ]
    },
    {
      "cell_type": "markdown",
      "source": [
        "### X SCALER"
      ],
      "metadata": {
        "id": "3ny0ydUHPYHC"
      }
    },
    {
      "cell_type": "code",
      "source": [
        "from sklearn.preprocessing import StandardScaler\n",
        "\n",
        "scaler = StandardScaler()\n",
        "X_scaled = scaler.fit_transform(X)\n"
      ],
      "metadata": {
        "id": "UK5G5jlCYcM3"
      },
      "execution_count": 34,
      "outputs": []
    },
    {
      "cell_type": "markdown",
      "source": [
        "## train_test_split X_scaled"
      ],
      "metadata": {
        "id": "Gfio9V6tBcN8"
      }
    },
    {
      "cell_type": "code",
      "source": [
        "from sklearn.model_selection import train_test_split\n",
        "from sklearn.pipeline import Pipeline\n",
        "from sklearn.compose import ColumnTransformer\n",
        "from sklearn.impute import SimpleImputer\n",
        "from sklearn.svm import SVC\n",
        "from sklearn.model_selection import GridSearchCV\n",
        "from sklearn.metrics import classification_report, confusion_matrix\n",
        "from sklearn.pipeline import make_pipeline\n",
        "from sklearn.model_selection import cross_val_score\n",
        "from sklearn.metrics import f1_score, accuracy_score\n",
        "\n",
        "SEED = 42\n",
        "\n",
        "X_train, X_test, y_train, y_test = train_test_split(X_scaled, y, test_size=0.3, random_state=SEED, stratify=y)"
      ],
      "metadata": {
        "id": "jfJkQ0vVN1L0"
      },
      "execution_count": 97,
      "outputs": []
    },
    {
      "cell_type": "markdown",
      "source": [
        "## SVC"
      ],
      "metadata": {
        "id": "-LMsv_wtBaPu"
      }
    },
    {
      "cell_type": "code",
      "source": [
        "clf = SVC(probability=True)\n",
        "clf.fit(X_train, y_train)\n",
        "print(f\"{clf.classes_=}\")\n",
        "print(f\"{clf.score(X_test, y_test)=}\")"
      ],
      "metadata": {
        "colab": {
          "base_uri": "https://localhost:8080/"
        },
        "id": "JA6eBf7Flig5",
        "outputId": "fda319a3-f12a-45ba-c63b-3b6b833b9a83"
      },
      "execution_count": 103,
      "outputs": [
        {
          "output_type": "stream",
          "name": "stdout",
          "text": [
            "clf.classes_=array([0, 1, 2, 3])\n",
            "clf.score(X_test, y_test)=0.9829809179989686\n"
          ]
        }
      ]
    },
    {
      "cell_type": "markdown",
      "source": [
        "### Cross Validation"
      ],
      "metadata": {
        "id": "AlZTdc76N30p"
      }
    },
    {
      "cell_type": "code",
      "source": [
        "scores = cross_val_score(clf, X_train, y_train, cv=10)\n",
        "scores.mean()"
      ],
      "metadata": {
        "colab": {
          "base_uri": "https://localhost:8080/"
        },
        "id": "NCIOBiwtNchE",
        "outputId": "d3e75295-9319-4f58-c5dc-3a6960e81d57"
      },
      "execution_count": 104,
      "outputs": [
        {
          "output_type": "execute_result",
          "data": {
            "text/plain": [
              "0.9827550841000996"
            ]
          },
          "metadata": {},
          "execution_count": 104
        }
      ]
    },
    {
      "cell_type": "markdown",
      "source": [
        "### Count classes"
      ],
      "metadata": {
        "id": "PC4CSx8zN79m"
      }
    },
    {
      "cell_type": "code",
      "source": [
        "y_test_pred = clf.decision_function(X_test)\n",
        "y_test_pred.round(2)"
      ],
      "metadata": {
        "colab": {
          "base_uri": "https://localhost:8080/"
        },
        "id": "puGNl5fkUhxr",
        "outputId": "aa145210-fe7a-4212-9113-bbfad9439aec"
      },
      "execution_count": 105,
      "outputs": [
        {
          "output_type": "execute_result",
          "data": {
            "text/plain": [
              "array([[ 2.19, -0.27,  3.27,  0.79],\n",
              "       [ 0.74, -0.22,  2.22,  3.26],\n",
              "       [ 0.74, -0.24,  2.2 ,  3.27],\n",
              "       ...,\n",
              "       [ 0.75, -0.26,  2.22,  3.27],\n",
              "       [ 0.75, -0.26,  2.23,  3.27],\n",
              "       [ 0.74, -0.24,  2.2 ,  3.27]])"
            ]
          },
          "metadata": {},
          "execution_count": 105
        }
      ]
    },
    {
      "cell_type": "code",
      "source": [
        "y_test_pred = clf.predict_proba(X_test)\n",
        "y_test_pred.round(2)"
      ],
      "metadata": {
        "colab": {
          "base_uri": "https://localhost:8080/"
        },
        "id": "M-__cHfRVaii",
        "outputId": "1feddd95-449b-458a-8377-1f249b3b97a7"
      },
      "execution_count": 106,
      "outputs": [
        {
          "output_type": "execute_result",
          "data": {
            "text/plain": [
              "array([[0.09, 0.  , 0.91, 0.  ],\n",
              "       [0.  , 0.  , 0.  , 1.  ],\n",
              "       [0.  , 0.  , 0.  , 1.  ],\n",
              "       ...,\n",
              "       [0.  , 0.  , 0.  , 1.  ],\n",
              "       [0.  , 0.  , 0.  , 1.  ],\n",
              "       [0.  , 0.  , 0.  , 1.  ]])"
            ]
          },
          "metadata": {},
          "execution_count": 106
        }
      ]
    },
    {
      "cell_type": "code",
      "source": [
        "y_test_pred = np.argmax(y_test_pred, axis=1)\n",
        "y_test_pred"
      ],
      "metadata": {
        "colab": {
          "base_uri": "https://localhost:8080/"
        },
        "id": "zwP-jNoFWfmJ",
        "outputId": "f7245498-29e3-40d2-ccea-8f9eae958325"
      },
      "execution_count": 107,
      "outputs": [
        {
          "output_type": "execute_result",
          "data": {
            "text/plain": [
              "array([2, 3, 3, ..., 3, 3, 3])"
            ]
          },
          "metadata": {},
          "execution_count": 107
        }
      ]
    },
    {
      "cell_type": "code",
      "source": [
        "y_test = clf.predict(X_test)"
      ],
      "metadata": {
        "id": "F2hZUo_FbAbZ"
      },
      "execution_count": 108,
      "outputs": []
    },
    {
      "cell_type": "code",
      "source": [
        "print(f\"{y_test.shape=}\")\n",
        "y_pred_result = {}\n",
        "for i in y_test_pred:\n",
        "  y_pred_result[class_list[i]] = y_pred_result.get(class_list[i],0) + 1\n",
        "print(f\"{y_pred_result=}\")\n",
        "\n",
        "y_test_result = {}\n",
        "for i in y_test:\n",
        "  y_test_result[class_list[i]] = y_test_result.get(class_list[i],0) + 1\n",
        "print(f\"{y_test_result=}\")"
      ],
      "metadata": {
        "id": "KflFyCDRZxDq"
      },
      "execution_count": null,
      "outputs": []
    },
    {
      "cell_type": "markdown",
      "source": [
        "### PIPELINE SVC"
      ],
      "metadata": {
        "id": "A5btf_7TWbMN"
      }
    },
    {
      "cell_type": "code",
      "source": [
        "X_train, X_test, y_train, y_test = train_test_split(X, y, test_size=0.3, random_state=SEED, stratify=y)"
      ],
      "metadata": {
        "id": "rYdxEaraMBEr"
      },
      "execution_count": 110,
      "outputs": []
    },
    {
      "cell_type": "code",
      "source": [
        "clf = make_pipeline(StandardScaler(), SVC(decision_function_shape='ovo'))\n",
        "clf.fit(X, y)\n",
        "print(f\"{clf.classes_=}\")\n",
        "print(f\"{clf.score(X_test, y_test)=}\")"
      ],
      "metadata": {
        "colab": {
          "base_uri": "https://localhost:8080/"
        },
        "id": "GcUyuBy9iNYl",
        "outputId": "f583a974-69c6-4253-e920-d14c6627aa33"
      },
      "execution_count": 111,
      "outputs": [
        {
          "output_type": "stream",
          "name": "stdout",
          "text": [
            "clf.classes_=array([0, 1, 2, 3])\n",
            "clf.score(X_test, y_test)=0.9876224858174316\n"
          ]
        }
      ]
    },
    {
      "cell_type": "code",
      "source": [
        "clf = make_pipeline(StandardScaler(), SVC(decision_function_shape='ovr', kernel='linear'))\n",
        "clf.fit(X, y)\n",
        "print(f\"{clf.classes_=}\")\n",
        "print(f\"{clf.score(X_test, y_test)=}\")"
      ],
      "metadata": {
        "colab": {
          "base_uri": "https://localhost:8080/"
        },
        "id": "JUnRBGmhzxvc",
        "outputId": "65e1cca8-4379-45ed-dd84-a65fb98552e0"
      },
      "execution_count": 112,
      "outputs": [
        {
          "output_type": "stream",
          "name": "stdout",
          "text": [
            "clf.classes_=array([0, 1, 2, 3])\n",
            "clf.score(X_test, y_test)=0.9819494584837545\n"
          ]
        }
      ]
    },
    {
      "cell_type": "code",
      "source": [
        "clf = make_pipeline(StandardScaler(), SVC(decision_function_shape='ovr', kernel='poly', degree=4))\n",
        "clf.fit(X, y)\n",
        "print(f\"{clf.classes_=}\")\n",
        "print(f\"{clf.score(X_test, y_test)=}\")"
      ],
      "metadata": {
        "colab": {
          "base_uri": "https://localhost:8080/"
        },
        "id": "Z4iHvaPM-o_l",
        "outputId": "ee444c29-51f3-4740-ee6f-7b7bd5671167"
      },
      "execution_count": 113,
      "outputs": [
        {
          "output_type": "stream",
          "name": "stdout",
          "text": [
            "clf.classes_=array([0, 1, 2, 3])\n",
            "clf.score(X_test, y_test)=0.9742135121196493\n"
          ]
        }
      ]
    },
    {
      "cell_type": "code",
      "source": [
        "numeric_features = X.columns\n",
        "len(numeric_features)\n"
      ],
      "metadata": {
        "colab": {
          "base_uri": "https://localhost:8080/"
        },
        "id": "8BT33JSoeGwp",
        "outputId": "d8680c4e-11cb-4cc1-81b2-2527ae2b9a75"
      },
      "execution_count": 114,
      "outputs": [
        {
          "output_type": "execute_result",
          "data": {
            "text/plain": [
              "90"
            ]
          },
          "metadata": {},
          "execution_count": 114
        }
      ]
    },
    {
      "cell_type": "markdown",
      "source": [
        "## RandomForestClassifier"
      ],
      "metadata": {
        "id": "3hvxcoJDBXU9"
      }
    },
    {
      "cell_type": "code",
      "source": [
        "from sklearn.ensemble import RandomForestClassifier\n",
        "\n",
        "clf = make_pipeline(StandardScaler(), RandomForestClassifier())\n",
        "clf.fit(X, y)\n",
        "print(f\"{clf.classes_=}\")\n",
        "print(f\"{clf.score(X_test, y_test)=}\")"
      ],
      "metadata": {
        "colab": {
          "base_uri": "https://localhost:8080/"
        },
        "id": "KIxCdGgSA1Yt",
        "outputId": "2a9de7ee-a01d-4fd2-fb72-1ff85e1a14f5"
      },
      "execution_count": 77,
      "outputs": [
        {
          "output_type": "stream",
          "name": "stdout",
          "text": [
            "clf.classes_=array([0, 1, 2, 3])\n",
            "clf.score(X_test, y_test)=1.0\n"
          ]
        }
      ]
    },
    {
      "cell_type": "markdown",
      "source": [
        "### Cross Validation"
      ],
      "metadata": {
        "id": "HRqvffNUP8uQ"
      }
    },
    {
      "cell_type": "code",
      "source": [
        "scores = cross_val_score(clf, X_train, y_train, cv=10)\n",
        "scores.mean()"
      ],
      "metadata": {
        "colab": {
          "base_uri": "https://localhost:8080/"
        },
        "outputId": "b1cdd812-376b-46f7-f3cc-67e99fed06b6",
        "id": "UHIbyVvJP8uQ"
      },
      "execution_count": 115,
      "outputs": [
        {
          "output_type": "execute_result",
          "data": {
            "text/plain": [
              "0.9712574967278126"
            ]
          },
          "metadata": {},
          "execution_count": 115
        }
      ]
    },
    {
      "cell_type": "markdown",
      "source": [
        "## PIPE TEST"
      ],
      "metadata": {
        "id": "42vviEBNOhe9"
      }
    },
    {
      "cell_type": "code",
      "source": [
        "preprocessor = ColumnTransformer(\n",
        "    transformers=[\n",
        "        ('scaler', StandardScaler(), numeric_features)\n",
        "    ])"
      ],
      "metadata": {
        "id": "uLYLoJvreWbS"
      },
      "execution_count": 82,
      "outputs": []
    },
    {
      "cell_type": "code",
      "source": [
        "models = {\n",
        "    'SVC': {\n",
        "        'model': SVC(),\n",
        "        'params': {}\n",
        "    },\n",
        "    'RandomForestClassifier': {\n",
        "        'model': RandomForestClassifier(),\n",
        "        'params': {}\n",
        "    }\n",
        "}\n",
        "\n",
        "results = {}"
      ],
      "metadata": {
        "id": "-Oul7WQSez5D"
      },
      "execution_count": 83,
      "outputs": []
    },
    {
      "cell_type": "code",
      "source": [
        "for name, model_info in models.items():\n",
        "    pipeline = Pipeline([\n",
        "        ('preprocessor', preprocessor),\n",
        "        ('classifier', model_info['model'])\n",
        "    ])\n",
        "\n",
        "    grid_search = GridSearchCV(pipeline,\n",
        "                               model_info['params'],\n",
        "                               cv=5,\n",
        "                               scoring='recall',\n",
        "                               )\n",
        "\n",
        "    grid_search.fit(X_train, y_train)\n",
        "\n",
        "    # y_pred = grid_search.predict(X_test)\n",
        "\n",
        "    # classification_rep = classification_report(y_test, y_pred)\n",
        "    # confusion_mat = confusion_matrix(y_test, y_pred)\n",
        "\n",
        "    # results[name] = {\n",
        "    #     'model': grid_search,\n",
        "    #     'classification_report': classification_rep,\n",
        "    #     'confusion_matrix': confusion_mat\n",
        "    # }"
      ],
      "metadata": {
        "colab": {
          "base_uri": "https://localhost:8080/"
        },
        "id": "ylCJ9PL-gWch",
        "outputId": "67771303-f9c7-4ded-f963-45687e7843ee"
      },
      "execution_count": 84,
      "outputs": [
        {
          "output_type": "stream",
          "name": "stderr",
          "text": [
            "/usr/local/lib/python3.10/dist-packages/sklearn/model_selection/_validation.py:778: UserWarning: Scoring failed. The score on this train-test partition for these parameters will be set to nan. Details: \n",
            "Traceback (most recent call last):\n",
            "  File \"/usr/local/lib/python3.10/dist-packages/sklearn/model_selection/_validation.py\", line 767, in _score\n",
            "    scores = scorer(estimator, X_test, y_test)\n",
            "  File \"/usr/local/lib/python3.10/dist-packages/sklearn/metrics/_scorer.py\", line 234, in __call__\n",
            "    return self._score(\n",
            "  File \"/usr/local/lib/python3.10/dist-packages/sklearn/metrics/_scorer.py\", line 282, in _score\n",
            "    return self._sign * self._score_func(y_true, y_pred, **self._kwargs)\n",
            "  File \"/usr/local/lib/python3.10/dist-packages/sklearn/metrics/_classification.py\", line 2098, in recall_score\n",
            "    _, r, _, _ = precision_recall_fscore_support(\n",
            "  File \"/usr/local/lib/python3.10/dist-packages/sklearn/metrics/_classification.py\", line 1573, in precision_recall_fscore_support\n",
            "    labels = _check_set_wise_labels(y_true, y_pred, average, labels, pos_label)\n",
            "  File \"/usr/local/lib/python3.10/dist-packages/sklearn/metrics/_classification.py\", line 1391, in _check_set_wise_labels\n",
            "    raise ValueError(\n",
            "ValueError: Target is multiclass but average='binary'. Please choose another average setting, one of [None, 'micro', 'macro', 'weighted'].\n",
            "\n",
            "  warnings.warn(\n",
            "/usr/local/lib/python3.10/dist-packages/sklearn/model_selection/_validation.py:778: UserWarning: Scoring failed. The score on this train-test partition for these parameters will be set to nan. Details: \n",
            "Traceback (most recent call last):\n",
            "  File \"/usr/local/lib/python3.10/dist-packages/sklearn/model_selection/_validation.py\", line 767, in _score\n",
            "    scores = scorer(estimator, X_test, y_test)\n",
            "  File \"/usr/local/lib/python3.10/dist-packages/sklearn/metrics/_scorer.py\", line 234, in __call__\n",
            "    return self._score(\n",
            "  File \"/usr/local/lib/python3.10/dist-packages/sklearn/metrics/_scorer.py\", line 282, in _score\n",
            "    return self._sign * self._score_func(y_true, y_pred, **self._kwargs)\n",
            "  File \"/usr/local/lib/python3.10/dist-packages/sklearn/metrics/_classification.py\", line 2098, in recall_score\n",
            "    _, r, _, _ = precision_recall_fscore_support(\n",
            "  File \"/usr/local/lib/python3.10/dist-packages/sklearn/metrics/_classification.py\", line 1573, in precision_recall_fscore_support\n",
            "    labels = _check_set_wise_labels(y_true, y_pred, average, labels, pos_label)\n",
            "  File \"/usr/local/lib/python3.10/dist-packages/sklearn/metrics/_classification.py\", line 1391, in _check_set_wise_labels\n",
            "    raise ValueError(\n",
            "ValueError: Target is multiclass but average='binary'. Please choose another average setting, one of [None, 'micro', 'macro', 'weighted'].\n",
            "\n",
            "  warnings.warn(\n",
            "/usr/local/lib/python3.10/dist-packages/sklearn/model_selection/_validation.py:778: UserWarning: Scoring failed. The score on this train-test partition for these parameters will be set to nan. Details: \n",
            "Traceback (most recent call last):\n",
            "  File \"/usr/local/lib/python3.10/dist-packages/sklearn/model_selection/_validation.py\", line 767, in _score\n",
            "    scores = scorer(estimator, X_test, y_test)\n",
            "  File \"/usr/local/lib/python3.10/dist-packages/sklearn/metrics/_scorer.py\", line 234, in __call__\n",
            "    return self._score(\n",
            "  File \"/usr/local/lib/python3.10/dist-packages/sklearn/metrics/_scorer.py\", line 282, in _score\n",
            "    return self._sign * self._score_func(y_true, y_pred, **self._kwargs)\n",
            "  File \"/usr/local/lib/python3.10/dist-packages/sklearn/metrics/_classification.py\", line 2098, in recall_score\n",
            "    _, r, _, _ = precision_recall_fscore_support(\n",
            "  File \"/usr/local/lib/python3.10/dist-packages/sklearn/metrics/_classification.py\", line 1573, in precision_recall_fscore_support\n",
            "    labels = _check_set_wise_labels(y_true, y_pred, average, labels, pos_label)\n",
            "  File \"/usr/local/lib/python3.10/dist-packages/sklearn/metrics/_classification.py\", line 1391, in _check_set_wise_labels\n",
            "    raise ValueError(\n",
            "ValueError: Target is multiclass but average='binary'. Please choose another average setting, one of [None, 'micro', 'macro', 'weighted'].\n",
            "\n",
            "  warnings.warn(\n",
            "/usr/local/lib/python3.10/dist-packages/sklearn/model_selection/_validation.py:778: UserWarning: Scoring failed. The score on this train-test partition for these parameters will be set to nan. Details: \n",
            "Traceback (most recent call last):\n",
            "  File \"/usr/local/lib/python3.10/dist-packages/sklearn/model_selection/_validation.py\", line 767, in _score\n",
            "    scores = scorer(estimator, X_test, y_test)\n",
            "  File \"/usr/local/lib/python3.10/dist-packages/sklearn/metrics/_scorer.py\", line 234, in __call__\n",
            "    return self._score(\n",
            "  File \"/usr/local/lib/python3.10/dist-packages/sklearn/metrics/_scorer.py\", line 282, in _score\n",
            "    return self._sign * self._score_func(y_true, y_pred, **self._kwargs)\n",
            "  File \"/usr/local/lib/python3.10/dist-packages/sklearn/metrics/_classification.py\", line 2098, in recall_score\n",
            "    _, r, _, _ = precision_recall_fscore_support(\n",
            "  File \"/usr/local/lib/python3.10/dist-packages/sklearn/metrics/_classification.py\", line 1573, in precision_recall_fscore_support\n",
            "    labels = _check_set_wise_labels(y_true, y_pred, average, labels, pos_label)\n",
            "  File \"/usr/local/lib/python3.10/dist-packages/sklearn/metrics/_classification.py\", line 1391, in _check_set_wise_labels\n",
            "    raise ValueError(\n",
            "ValueError: Target is multiclass but average='binary'. Please choose another average setting, one of [None, 'micro', 'macro', 'weighted'].\n",
            "\n",
            "  warnings.warn(\n",
            "/usr/local/lib/python3.10/dist-packages/sklearn/model_selection/_validation.py:778: UserWarning: Scoring failed. The score on this train-test partition for these parameters will be set to nan. Details: \n",
            "Traceback (most recent call last):\n",
            "  File \"/usr/local/lib/python3.10/dist-packages/sklearn/model_selection/_validation.py\", line 767, in _score\n",
            "    scores = scorer(estimator, X_test, y_test)\n",
            "  File \"/usr/local/lib/python3.10/dist-packages/sklearn/metrics/_scorer.py\", line 234, in __call__\n",
            "    return self._score(\n",
            "  File \"/usr/local/lib/python3.10/dist-packages/sklearn/metrics/_scorer.py\", line 282, in _score\n",
            "    return self._sign * self._score_func(y_true, y_pred, **self._kwargs)\n",
            "  File \"/usr/local/lib/python3.10/dist-packages/sklearn/metrics/_classification.py\", line 2098, in recall_score\n",
            "    _, r, _, _ = precision_recall_fscore_support(\n",
            "  File \"/usr/local/lib/python3.10/dist-packages/sklearn/metrics/_classification.py\", line 1573, in precision_recall_fscore_support\n",
            "    labels = _check_set_wise_labels(y_true, y_pred, average, labels, pos_label)\n",
            "  File \"/usr/local/lib/python3.10/dist-packages/sklearn/metrics/_classification.py\", line 1391, in _check_set_wise_labels\n",
            "    raise ValueError(\n",
            "ValueError: Target is multiclass but average='binary'. Please choose another average setting, one of [None, 'micro', 'macro', 'weighted'].\n",
            "\n",
            "  warnings.warn(\n",
            "/usr/local/lib/python3.10/dist-packages/sklearn/model_selection/_search.py:952: UserWarning: One or more of the test scores are non-finite: [nan]\n",
            "  warnings.warn(\n",
            "/usr/local/lib/python3.10/dist-packages/sklearn/model_selection/_validation.py:778: UserWarning: Scoring failed. The score on this train-test partition for these parameters will be set to nan. Details: \n",
            "Traceback (most recent call last):\n",
            "  File \"/usr/local/lib/python3.10/dist-packages/sklearn/model_selection/_validation.py\", line 767, in _score\n",
            "    scores = scorer(estimator, X_test, y_test)\n",
            "  File \"/usr/local/lib/python3.10/dist-packages/sklearn/metrics/_scorer.py\", line 234, in __call__\n",
            "    return self._score(\n",
            "  File \"/usr/local/lib/python3.10/dist-packages/sklearn/metrics/_scorer.py\", line 282, in _score\n",
            "    return self._sign * self._score_func(y_true, y_pred, **self._kwargs)\n",
            "  File \"/usr/local/lib/python3.10/dist-packages/sklearn/metrics/_classification.py\", line 2098, in recall_score\n",
            "    _, r, _, _ = precision_recall_fscore_support(\n",
            "  File \"/usr/local/lib/python3.10/dist-packages/sklearn/metrics/_classification.py\", line 1573, in precision_recall_fscore_support\n",
            "    labels = _check_set_wise_labels(y_true, y_pred, average, labels, pos_label)\n",
            "  File \"/usr/local/lib/python3.10/dist-packages/sklearn/metrics/_classification.py\", line 1391, in _check_set_wise_labels\n",
            "    raise ValueError(\n",
            "ValueError: Target is multiclass but average='binary'. Please choose another average setting, one of [None, 'micro', 'macro', 'weighted'].\n",
            "\n",
            "  warnings.warn(\n",
            "/usr/local/lib/python3.10/dist-packages/sklearn/model_selection/_validation.py:778: UserWarning: Scoring failed. The score on this train-test partition for these parameters will be set to nan. Details: \n",
            "Traceback (most recent call last):\n",
            "  File \"/usr/local/lib/python3.10/dist-packages/sklearn/model_selection/_validation.py\", line 767, in _score\n",
            "    scores = scorer(estimator, X_test, y_test)\n",
            "  File \"/usr/local/lib/python3.10/dist-packages/sklearn/metrics/_scorer.py\", line 234, in __call__\n",
            "    return self._score(\n",
            "  File \"/usr/local/lib/python3.10/dist-packages/sklearn/metrics/_scorer.py\", line 282, in _score\n",
            "    return self._sign * self._score_func(y_true, y_pred, **self._kwargs)\n",
            "  File \"/usr/local/lib/python3.10/dist-packages/sklearn/metrics/_classification.py\", line 2098, in recall_score\n",
            "    _, r, _, _ = precision_recall_fscore_support(\n",
            "  File \"/usr/local/lib/python3.10/dist-packages/sklearn/metrics/_classification.py\", line 1573, in precision_recall_fscore_support\n",
            "    labels = _check_set_wise_labels(y_true, y_pred, average, labels, pos_label)\n",
            "  File \"/usr/local/lib/python3.10/dist-packages/sklearn/metrics/_classification.py\", line 1391, in _check_set_wise_labels\n",
            "    raise ValueError(\n",
            "ValueError: Target is multiclass but average='binary'. Please choose another average setting, one of [None, 'micro', 'macro', 'weighted'].\n",
            "\n",
            "  warnings.warn(\n",
            "/usr/local/lib/python3.10/dist-packages/sklearn/model_selection/_validation.py:778: UserWarning: Scoring failed. The score on this train-test partition for these parameters will be set to nan. Details: \n",
            "Traceback (most recent call last):\n",
            "  File \"/usr/local/lib/python3.10/dist-packages/sklearn/model_selection/_validation.py\", line 767, in _score\n",
            "    scores = scorer(estimator, X_test, y_test)\n",
            "  File \"/usr/local/lib/python3.10/dist-packages/sklearn/metrics/_scorer.py\", line 234, in __call__\n",
            "    return self._score(\n",
            "  File \"/usr/local/lib/python3.10/dist-packages/sklearn/metrics/_scorer.py\", line 282, in _score\n",
            "    return self._sign * self._score_func(y_true, y_pred, **self._kwargs)\n",
            "  File \"/usr/local/lib/python3.10/dist-packages/sklearn/metrics/_classification.py\", line 2098, in recall_score\n",
            "    _, r, _, _ = precision_recall_fscore_support(\n",
            "  File \"/usr/local/lib/python3.10/dist-packages/sklearn/metrics/_classification.py\", line 1573, in precision_recall_fscore_support\n",
            "    labels = _check_set_wise_labels(y_true, y_pred, average, labels, pos_label)\n",
            "  File \"/usr/local/lib/python3.10/dist-packages/sklearn/metrics/_classification.py\", line 1391, in _check_set_wise_labels\n",
            "    raise ValueError(\n",
            "ValueError: Target is multiclass but average='binary'. Please choose another average setting, one of [None, 'micro', 'macro', 'weighted'].\n",
            "\n",
            "  warnings.warn(\n",
            "/usr/local/lib/python3.10/dist-packages/sklearn/model_selection/_validation.py:778: UserWarning: Scoring failed. The score on this train-test partition for these parameters will be set to nan. Details: \n",
            "Traceback (most recent call last):\n",
            "  File \"/usr/local/lib/python3.10/dist-packages/sklearn/model_selection/_validation.py\", line 767, in _score\n",
            "    scores = scorer(estimator, X_test, y_test)\n",
            "  File \"/usr/local/lib/python3.10/dist-packages/sklearn/metrics/_scorer.py\", line 234, in __call__\n",
            "    return self._score(\n",
            "  File \"/usr/local/lib/python3.10/dist-packages/sklearn/metrics/_scorer.py\", line 282, in _score\n",
            "    return self._sign * self._score_func(y_true, y_pred, **self._kwargs)\n",
            "  File \"/usr/local/lib/python3.10/dist-packages/sklearn/metrics/_classification.py\", line 2098, in recall_score\n",
            "    _, r, _, _ = precision_recall_fscore_support(\n",
            "  File \"/usr/local/lib/python3.10/dist-packages/sklearn/metrics/_classification.py\", line 1573, in precision_recall_fscore_support\n",
            "    labels = _check_set_wise_labels(y_true, y_pred, average, labels, pos_label)\n",
            "  File \"/usr/local/lib/python3.10/dist-packages/sklearn/metrics/_classification.py\", line 1391, in _check_set_wise_labels\n",
            "    raise ValueError(\n",
            "ValueError: Target is multiclass but average='binary'. Please choose another average setting, one of [None, 'micro', 'macro', 'weighted'].\n",
            "\n",
            "  warnings.warn(\n",
            "/usr/local/lib/python3.10/dist-packages/sklearn/model_selection/_validation.py:778: UserWarning: Scoring failed. The score on this train-test partition for these parameters will be set to nan. Details: \n",
            "Traceback (most recent call last):\n",
            "  File \"/usr/local/lib/python3.10/dist-packages/sklearn/model_selection/_validation.py\", line 767, in _score\n",
            "    scores = scorer(estimator, X_test, y_test)\n",
            "  File \"/usr/local/lib/python3.10/dist-packages/sklearn/metrics/_scorer.py\", line 234, in __call__\n",
            "    return self._score(\n",
            "  File \"/usr/local/lib/python3.10/dist-packages/sklearn/metrics/_scorer.py\", line 282, in _score\n",
            "    return self._sign * self._score_func(y_true, y_pred, **self._kwargs)\n",
            "  File \"/usr/local/lib/python3.10/dist-packages/sklearn/metrics/_classification.py\", line 2098, in recall_score\n",
            "    _, r, _, _ = precision_recall_fscore_support(\n",
            "  File \"/usr/local/lib/python3.10/dist-packages/sklearn/metrics/_classification.py\", line 1573, in precision_recall_fscore_support\n",
            "    labels = _check_set_wise_labels(y_true, y_pred, average, labels, pos_label)\n",
            "  File \"/usr/local/lib/python3.10/dist-packages/sklearn/metrics/_classification.py\", line 1391, in _check_set_wise_labels\n",
            "    raise ValueError(\n",
            "ValueError: Target is multiclass but average='binary'. Please choose another average setting, one of [None, 'micro', 'macro', 'weighted'].\n",
            "\n",
            "  warnings.warn(\n",
            "/usr/local/lib/python3.10/dist-packages/sklearn/model_selection/_search.py:952: UserWarning: One or more of the test scores are non-finite: [nan]\n",
            "  warnings.warn(\n"
          ]
        }
      ]
    }
  ]
}